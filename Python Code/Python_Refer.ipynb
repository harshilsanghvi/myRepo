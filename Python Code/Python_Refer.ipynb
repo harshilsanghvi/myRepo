{
 "cells": [
  {
   "cell_type": "code",
   "execution_count": 16,
   "metadata": {
    "collapsed": false
   },
   "outputs": [],
   "source": [
    "# import pandas as pd\n",
    "# import numpy as np\n",
    "# def readdata(path):\n",
    "#     data = pd.read_csv(path,sep=r'\\s*,\\s*',engine='python',na_values=\"?\")\n",
    "# #3\n",
    "# def dataanalysis():\n",
    "#     data.tail()\n",
    "#     data.head()\n",
    "#     data.dtypes#structure of the columns\n",
    "# def descstats():\n",
    "    "
   ]
  },
  {
   "cell_type": "raw",
   "metadata": {
    "collapsed": false
   },
   "source": [
    "In Windows run pip commands\n",
    "C:\\Users\\HS> C:\\Python27\\Scripts\\pip install pandas\n"
   ]
  },
  {
   "cell_type": "code",
   "execution_count": 2,
   "metadata": {
    "collapsed": true
   },
   "outputs": [],
   "source": [
    "# --------SUMMARY--------------\n",
    "# data.dtypes\n",
    "# data.head(1)\n",
    "# data.tail(3)"
   ]
  },
  {
   "cell_type": "code",
   "execution_count": 3,
   "metadata": {
    "collapsed": true
   },
   "outputs": [],
   "source": [
    "\n",
    "#---------COLUMNS---------------\n",
    "# data[\"Age\"].iloc[-4:]\n",
    "# data[\"Age\"].head()\n",
    "# data[\"Age\"].tolist()\n",
    "# print(np.array(data['Hours_per_week']))\n",
    "# data.Age.head(2)\n",
    "# df = data.set_index('Age') OR data.set_index('Age'),inplace = True)\n",
    "# data[[\"Age\",\"Education\"]]\n"
   ]
  },
  {
   "cell_type": "code",
   "execution_count": 4,
   "metadata": {
    "collapsed": true
   },
   "outputs": [],
   "source": [
    "\n",
    "#----------ROW MANIPULATION-------------\n",
    "# rows = [data[\"Age\"].index(x) if x is None else \"Value\" for x in data[\"Age\"]]\n",
    "# [i for i, x in enumerate(rows) if x != \"Value\"]\n"
   ]
  },
  {
   "cell_type": "code",
   "execution_count": null,
   "metadata": {
    "collapsed": true
   },
   "outputs": [],
   "source": [
    "\n",
    "# ---------MISSING VALUES---------------\n",
    "# 1. Ignore missing values 2. Remove missing values 3. Fill with related values 4. Fill with static values\n",
    "# 2.\n",
    "# data[[\"Age\",\"Hour\"]].dropna()\n",
    "# data[[\"Age\",\"Hour\"]].dropna(how = \"all\",inplace=True)\n",
    "# 3. \n",
    "# data[[\"Age\"]].fillna(method=\"ffill\")\n",
    "# 4.\n",
    "# method = \"bfill\" OR value = -9999\n",
    "# data.isnull().values.sum() ----- To count no. of rows with null"
   ]
  },
  {
   "cell_type": "raw",
   "metadata": {
    "collapsed": true
   },
   "source": [
    "# ----------- MATPLOTLIB PLOTS------------\n",
    "\n",
    "# - line plot\n",
    "# bo - b is blue and o means dot\n",
    "# k - line plot\n",
    "# bs - blue square\n",
    "# g^ - green triangle \n",
    "# -- dashed line plot\n",
    "\n",
    "asdf"
   ]
  },
  {
   "cell_type": "code",
   "execution_count": null,
   "metadata": {
    "collapsed": true
   },
   "outputs": [],
   "source": [
    "# --------ROW MANUPALATION-------------\n",
    "len(df.index)\n",
    "df.count\n"
   ]
  },
  {
   "cell_type": "code",
   "execution_count": null,
   "metadata": {
    "collapsed": true
   },
   "outputs": [],
   "source": []
  }
 ],
 "metadata": {
  "anaconda-cloud": {},
  "kernelspec": {
   "display_name": "Python 2",
   "language": "python",
   "name": "python2"
  },
  "language_info": {
   "codemirror_mode": {
    "name": "ipython",
    "version": 2
   },
   "file_extension": ".py",
   "mimetype": "text/x-python",
   "name": "python",
   "nbconvert_exporter": "python",
   "pygments_lexer": "ipython2",
   "version": "2.7.11"
  }
 },
 "nbformat": 4,
 "nbformat_minor": 0
}
