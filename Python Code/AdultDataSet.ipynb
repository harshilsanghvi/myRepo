{
 "cells": [
  {
   "cell_type": "code",
   "execution_count": 96,
   "metadata": {
    "collapsed": false
   },
   "outputs": [],
   "source": [
    "import pandas as pd\n",
    "import numpy as np\n",
    "import statsmodels as sm\n",
    "import sklearn as skl\n",
    "import sklearn.preprocessing as preprocessing\n",
    "import sklearn.linear_model as linear_model\n",
    "import sklearn.cross_validation as cross_validation\n",
    "import sklearn.metrics as metrics\n",
    "import sklearn.tree as tree\n",
    "import seaborn as sns\n",
    "import matplotlib.pylab as plt\n",
    "from scipy.stats import trim_mean, kurtosis, spearmanr, kendalltau, pearsonr\n",
    "from scipy.stats.mstats import mode, gmean, hmean\n",
    "import plotly.plotly as py"
   ]
  },
  {
   "cell_type": "code",
   "execution_count": 168,
   "metadata": {
    "collapsed": true
   },
   "outputs": [],
   "source": [
    "data = pd.read_csv(\"/home/harshil/BDAP/Python Code/adultdata.csv\", names = [\"Age\", \"Workclass\", \"fnlwgt\", \n",
    "        \"Education\", \"Education-Num\", \"Martial_Status\",\"Occupation\", \"Relationship\", \"Race\", \"Sex\",\n",
    "        \"Capital_Gain\", \"Capital_Loss\",\"Hour\", \"Country\", \"Target\"],\n",
    "        sep=r'\\s*,\\s*',engine='python',na_values=\"?\")\n",
    "data = data.dropna()"
   ]
  },
  {
   "cell_type": "code",
   "execution_count": 172,
   "metadata": {
    "collapsed": false
   },
   "outputs": [],
   "source": [
    "data['Target']\n",
    "data['Target'] = [1 if x == '<=50K' else 0 for x in data['Target']]"
   ]
  },
  {
   "cell_type": "code",
   "execution_count": 160,
   "metadata": {
    "collapsed": false
   },
   "outputs": [
    {
     "data": {
      "text/html": [
       "<div>\n",
       "<table border=\"1\" class=\"dataframe\">\n",
       "  <thead>\n",
       "    <tr style=\"text-align: right;\">\n",
       "      <th></th>\n",
       "      <th>Age</th>\n",
       "      <th>fnlwgt</th>\n",
       "      <th>Education-Num</th>\n",
       "      <th>Capital_Gain</th>\n",
       "      <th>Capital_Loss</th>\n",
       "      <th>Hour</th>\n",
       "      <th>Target</th>\n",
       "    </tr>\n",
       "  </thead>\n",
       "  <tbody>\n",
       "    <tr>\n",
       "      <th>count</th>\n",
       "      <td>30162.000000</td>\n",
       "      <td>3.016200e+04</td>\n",
       "      <td>30162.000000</td>\n",
       "      <td>30162.000000</td>\n",
       "      <td>30162.000000</td>\n",
       "      <td>30162.000000</td>\n",
       "      <td>30162.0</td>\n",
       "    </tr>\n",
       "    <tr>\n",
       "      <th>mean</th>\n",
       "      <td>38.437902</td>\n",
       "      <td>1.897938e+05</td>\n",
       "      <td>10.121312</td>\n",
       "      <td>1092.007858</td>\n",
       "      <td>88.372489</td>\n",
       "      <td>40.931238</td>\n",
       "      <td>0.0</td>\n",
       "    </tr>\n",
       "    <tr>\n",
       "      <th>std</th>\n",
       "      <td>13.134665</td>\n",
       "      <td>1.056530e+05</td>\n",
       "      <td>2.549995</td>\n",
       "      <td>7406.346497</td>\n",
       "      <td>404.298370</td>\n",
       "      <td>11.979984</td>\n",
       "      <td>0.0</td>\n",
       "    </tr>\n",
       "    <tr>\n",
       "      <th>min</th>\n",
       "      <td>17.000000</td>\n",
       "      <td>1.376900e+04</td>\n",
       "      <td>1.000000</td>\n",
       "      <td>0.000000</td>\n",
       "      <td>0.000000</td>\n",
       "      <td>1.000000</td>\n",
       "      <td>0.0</td>\n",
       "    </tr>\n",
       "    <tr>\n",
       "      <th>25%</th>\n",
       "      <td>28.000000</td>\n",
       "      <td>1.176272e+05</td>\n",
       "      <td>9.000000</td>\n",
       "      <td>0.000000</td>\n",
       "      <td>0.000000</td>\n",
       "      <td>40.000000</td>\n",
       "      <td>0.0</td>\n",
       "    </tr>\n",
       "    <tr>\n",
       "      <th>50%</th>\n",
       "      <td>37.000000</td>\n",
       "      <td>1.784250e+05</td>\n",
       "      <td>10.000000</td>\n",
       "      <td>0.000000</td>\n",
       "      <td>0.000000</td>\n",
       "      <td>40.000000</td>\n",
       "      <td>0.0</td>\n",
       "    </tr>\n",
       "    <tr>\n",
       "      <th>75%</th>\n",
       "      <td>47.000000</td>\n",
       "      <td>2.376285e+05</td>\n",
       "      <td>13.000000</td>\n",
       "      <td>0.000000</td>\n",
       "      <td>0.000000</td>\n",
       "      <td>45.000000</td>\n",
       "      <td>0.0</td>\n",
       "    </tr>\n",
       "    <tr>\n",
       "      <th>max</th>\n",
       "      <td>90.000000</td>\n",
       "      <td>1.484705e+06</td>\n",
       "      <td>16.000000</td>\n",
       "      <td>99999.000000</td>\n",
       "      <td>4356.000000</td>\n",
       "      <td>99.000000</td>\n",
       "      <td>0.0</td>\n",
       "    </tr>\n",
       "  </tbody>\n",
       "</table>\n",
       "</div>"
      ],
      "text/plain": [
       "                Age        fnlwgt  Education-Num  Capital_Gain  Capital_Loss  \\\n",
       "count  30162.000000  3.016200e+04   30162.000000  30162.000000  30162.000000   \n",
       "mean      38.437902  1.897938e+05      10.121312   1092.007858     88.372489   \n",
       "std       13.134665  1.056530e+05       2.549995   7406.346497    404.298370   \n",
       "min       17.000000  1.376900e+04       1.000000      0.000000      0.000000   \n",
       "25%       28.000000  1.176272e+05       9.000000      0.000000      0.000000   \n",
       "50%       37.000000  1.784250e+05      10.000000      0.000000      0.000000   \n",
       "75%       47.000000  2.376285e+05      13.000000      0.000000      0.000000   \n",
       "max       90.000000  1.484705e+06      16.000000  99999.000000   4356.000000   \n",
       "\n",
       "               Hour   Target  \n",
       "count  30162.000000  30162.0  \n",
       "mean      40.931238      0.0  \n",
       "std       11.979984      0.0  \n",
       "min        1.000000      0.0  \n",
       "25%       40.000000      0.0  \n",
       "50%       40.000000      0.0  \n",
       "75%       45.000000      0.0  \n",
       "max       99.000000      0.0  "
      ]
     },
     "execution_count": 160,
     "metadata": {},
     "output_type": "execute_result"
    }
   ],
   "source": [
    "# ----------5 number summary----------------------\n",
    "data.describe()"
   ]
  },
  {
   "cell_type": "code",
   "execution_count": null,
   "metadata": {
    "collapsed": false
   },
   "outputs": [],
   "source": [
    "# ----------MEASURES OF VARIABILITY---------------\n",
    "print data.std()\n",
    "print data.quantile([.25,.5,.75])\n",
    "print data.var()"
   ]
  },
  {
   "cell_type": "code",
   "execution_count": null,
   "metadata": {
    "collapsed": false
   },
   "outputs": [],
   "source": [
    "#-----------QQ PLOTS------------------------------\n",
    "import scipy.stats as stats\n",
    "import pylab\n",
    "stats.probplot(data[\"Age\"], dist=\"norm\", plot=pylab)\n",
    "pylab.subplot(321)\n",
    "stats.probplot(data[\"fnlwgt\"], dist=\"norm\", plot=pylab)\n",
    "pylab.subplot(322)\n",
    "stats.probplot(data[\"Education-Num\"], dist=\"norm\", plot=pylab)\n",
    "pylab.subplot(323)\n",
    "stats.probplot(data[\"Capital_Gain\"], dist=\"norm\", plot=pylab)\n",
    "pylab.subplot(324)\n",
    "stats.probplot(data[\"Capital_Loss\"], dist=\"norm\", plot=pylab)\n",
    "pylab.subplot(325)\n",
    "stats.probplot(data[\"Hour\"], dist=\"norm\", plot=pylab)\n",
    "pylab.subplot(326)\n",
    "\n",
    "pylab.show()"
   ]
  },
  {
   "cell_type": "code",
   "execution_count": 126,
   "metadata": {
    "collapsed": false
   },
   "outputs": [],
   "source": [
    "# -----------BOX PLOT-----------------------------\n",
    "# import plotly.graph_objs as go\n",
    "import math as m \n",
    "fig = plt.figure(figsize=(20,15))\n",
    "cols = 3\n",
    "rows = m.ceil(float(data.shape[1]) / cols)\n",
    "j = 0 \n",
    "for i, column in enumerate(data.columns):\n",
    "    if data.dtypes[column] != np.object:\n",
    "        j += 1\n",
    "        ax = fig.add_subplot(2, cols, j)\n",
    "        ax.set_title(column)\n",
    "        sns.boxplot(x = data['Target'],y = data[column])\n",
    "plt.subplots_adjust(hspace=0.7, wspace=0.2)\n",
    "plt.show()"
   ]
  },
  {
   "cell_type": "code",
   "execution_count": 175,
   "metadata": {
    "collapsed": false
   },
   "outputs": [],
   "source": [
    "#------------HISTOGRAM-----------------------------\n",
    "# Analyse Data\n",
    "\n",
    "import math as m \n",
    "fig = plt.figure(figsize=(20,15))\n",
    "cols = 5\n",
    "rows = m.ceil(float(data.shape[1]) / cols)\n",
    "for i, column in enumerate(data.columns):\n",
    "    ax = fig.add_subplot(rows, cols, i + 1)\n",
    "    ax.set_title(column)\n",
    "    if data.dtypes[column] == np.object:\n",
    "        data[column].value_counts().plot(kind=\"bar\", axes=ax)\n",
    "    else:\n",
    "        data[column].hist(axes=ax)\n",
    "        plt.xticks(rotation=\"vertical\")\n",
    "plt.subplots_adjust(hspace=0.7, wspace=0.2)\n",
    "plt.show()\n"
   ]
  },
  {
   "cell_type": "code",
   "execution_count": null,
   "metadata": {
    "collapsed": false
   },
   "outputs": [],
   "source": []
  },
  {
   "cell_type": "code",
   "execution_count": 176,
   "metadata": {
    "collapsed": false
   },
   "outputs": [],
   "source": [
    "# -----------SCATTER PLOT--------------------------\n",
    "sns.regplot(data['Target'],data['Age'])\n",
    "plt.show()\n",
    "# data['Target'].head(5)"
   ]
  },
  {
   "cell_type": "code",
   "execution_count": 13,
   "metadata": {
    "collapsed": false
   },
   "outputs": [
    {
     "data": {
      "text/plain": [
       "United-States    0.895857\n",
       "Mexico           0.019748\n",
       "Philippines      0.006081\n",
       "Germany          0.004207\n",
       "Canada           0.003716\n",
       "Name: Country, dtype: float64"
      ]
     },
     "execution_count": 13,
     "metadata": {},
     "output_type": "execute_result"
    }
   ],
   "source": [
    "(data[\"Country\"].value_counts() / data.shape[0]).head()"
   ]
  },
  {
   "cell_type": "markdown",
   "metadata": {},
   "source": [
    "## OBSERVATIONS\n",
    "1. Most of the data is concentrated around US\n",
    "\n",
    "### Need to   Correlation\n",
    "\n",
    "1. Need to convert categorical variable into numerical variables. Using Label Encoder \n",
    "2. Remove correlated variables "
   ]
  },
  {
   "cell_type": "code",
   "execution_count": 102,
   "metadata": {
    "collapsed": false
   },
   "outputs": [],
   "source": [
    "from sklearn import preprocessing\n",
    "# Encode the categorical features as numbers\n",
    "def number_encode_features(df):\n",
    "    result = df.copy()\n",
    "    encoders = {}\n",
    "#     df.apply(preprocessing.LabelEncoder().fit_transform)\n",
    "    for column in result.columns:\n",
    "        if result.dtypes[column] == np.object:\n",
    "            encoders[column] = preprocessing.LabelEncoder()\n",
    "            result[column] = encoders[column].fit_transform(result[column])\n",
    "    return result, encoders\n",
    "    \n",
    "# Calculate the correlation and plot it\n",
    "encoded_data, _ = number_encode_features(data)\n",
    "sns.heatmap(encoded_data.corr(), square=True)\n",
    "plt.show()\n",
    "# Label encoder function in scikit-learn package is used  "
   ]
  },
  {
   "cell_type": "code",
   "execution_count": 177,
   "metadata": {
    "collapsed": false
   },
   "outputs": [],
   "source": [
    "# import itertools\n",
    "# lis = data.select_dtypes(include=['int64'])\n",
    "# correlations = {}\n",
    "# columns = lis.columns.tolist()\n",
    "# for col_a, col_b in itertools.combinations(columns, 2):\n",
    "#     correlations[col_a + '__' + col_b] = spearmanr(lis.loc[:, col_a], lis.loc[:, col_b])\n",
    "# # print correlations\n",
    "# result = pd.DataFrame.from_dict(correlations, orient='index')\n",
    "# result.columns = ['PCC', 'p-value']\n",
    "\n",
    "# print(result.sort_index())\n"
   ]
  },
  {
   "cell_type": "code",
   "execution_count": null,
   "metadata": {
    "collapsed": true
   },
   "outputs": [],
   "source": [
    "data[[\"Education\", \"Education-Num\"]].head(15)"
   ]
  },
  {
   "cell_type": "markdown",
   "metadata": {},
   "source": [
    "- We Remove Education column as Education and Education-Num are highly correlated.\n",
    "- Now to model the data, we encode the categorical variable and create histograms"
   ]
  },
  {
   "cell_type": "code",
   "execution_count": null,
   "metadata": {
    "collapsed": true
   },
   "outputs": [],
   "source": [
    "encoded_data, encoders = number_encode_features(data)\n",
    "fig = plt.figure(figsize=(20,15))\n",
    "cols = 5\n",
    "rows = m.ceil(float(encoded_data.shape[1]) / cols)\n",
    "for i, column in enumerate(encoded_data.columns):\n",
    "    ax = fig.add_subplot(rows, cols, i + 1)\n",
    "    ax.set_title(column)\n",
    "    encoded_data[column].hist(axes=ax)\n",
    "    plt.xticks(rotation=\"vertical\")\n",
    "plt.subplots_adjust(hspace=0.7, wspace=0.2)\n",
    "plt.show()"
   ]
  },
  {
   "cell_type": "markdown",
   "metadata": {},
   "source": [
    "Before modelling, we divide the data into train and test sets. We scale all the data with mean 0 and variance 1 using StandardScalar in scikit-learn"
   ]
  },
  {
   "cell_type": "code",
   "execution_count": null,
   "metadata": {
    "collapsed": false
   },
   "outputs": [],
   "source": [
    "X_train, X_test, y_train, y_test = cross_validation.train_test_split(encoded_data[encoded_data.columns - [\"Target\"]], encoded_data[\"Target\"], train_size=0.70)\n",
    "scaler = preprocessing.StandardScaler()\n",
    "X_train = pd.DataFrame(scaler.fit_transform(X_train.astype('float64')), columns=X_train.columns)\n",
    "X_test = scaler.transform(X_test.astype(\"float64\"))\n",
    "# ?X_train.astype"
   ]
  },
  {
   "cell_type": "markdown",
   "metadata": {},
   "source": [
    "# 1 Logistic Regression"
   ]
  },
  {
   "cell_type": "code",
   "execution_count": null,
   "metadata": {
    "collapsed": false
   },
   "outputs": [],
   "source": [
    "cls = linear_model.LogisticRegression()\n",
    "\n",
    "cls.fit(X_train, y_train)\n",
    "y_pred = cls.predict(X_test)\n",
    "cm = metrics.confusion_matrix(y_test, y_pred)\n",
    "plt.figure(figsize=(12,12))\n",
    "plt.subplot(2,1,1)\n",
    "sns.heatmap(cm, annot=True, fmt=\"d\", xticklabels=encoders[\"Target\"].classes_, yticklabels=encoders[\"Target\"].classes_)\n",
    "plt.ylabel(\"Real value\")\n",
    "plt.xlabel(\"Predicted value\")\n",
    "print \"F1 score: %f\" % skl.metrics.f1_score(y_test, y_pred)\n",
    "coefs = pd.Series(cls.coef_[0], index=X_train.columns)\n",
    "coefs.sort()\n",
    "plt.subplot(2,1,2)\n",
    "coefs.plot(kind=\"bar\")\n",
    "plt.show()"
   ]
  },
  {
   "cell_type": "markdown",
   "metadata": {},
   "source": [
    "Using Label encoding, the marital status values are ranging from 0 to 6 and the order is important. In practice there\n",
    "is no particular order in that feature. We can fix the issue using binary features by inrtoducing dummy variables."
   ]
  },
  {
   "cell_type": "code",
   "execution_count": null,
   "metadata": {
    "collapsed": true
   },
   "outputs": [],
   "source": [
    "binary_data = pd.get_dummies(data)\n",
    "# Let's fix the Target as it will be converted to dummy vars too\n",
    "binary_data[\"Target\"] = binary_data[\"Target_>50K\"]\n",
    "del binary_data[\"Target_<=50K\"]\n",
    "del binary_data[\"Target_>50K\"]\n",
    "plt.subplots(figsize=(20,20))\n",
    "sns.heatmap(binary_data.corr(), square=True)\n",
    "plt.show()"
   ]
  },
  {
   "cell_type": "code",
   "execution_count": null,
   "metadata": {
    "collapsed": false
   },
   "outputs": [],
   "source": [
    "X_train, X_test, y_train, y_test = cross_validation.train_test_split(binary_data[binary_data.columns - [\"Target\"]], binary_data[\"Target\"], train_size=0.70)\n",
    "scaler = preprocessing.StandardScaler()\n",
    "X_train = pd.DataFrame(scaler.fit_transform(X_train), columns=X_train.columns)\n",
    "X_test = scaler.transform(X_test)"
   ]
  },
  {
   "cell_type": "markdown",
   "metadata": {},
   "source": [
    "### Logistic regression with dummy variables"
   ]
  },
  {
   "cell_type": "code",
   "execution_count": null,
   "metadata": {
    "collapsed": false
   },
   "outputs": [],
   "source": [
    "cls = linear_model.LogisticRegression()\n",
    "\n",
    "cls.fit(X_train, y_train)\n",
    "y_pred = cls.predict(X_test)\n",
    "cm = metrics.confusion_matrix(y_test, y_pred)\n",
    "\n",
    "plt.figure(figsize=(20,20))\n",
    "plt.subplot(2,1,1)\n",
    "sns.heatmap(cm, annot=True, fmt=\"d\", xticklabels=encoders[\"Target\"].classes_, yticklabels=encoders[\"Target\"].classes_)\n",
    "plt.ylabel(\"Real value\")\n",
    "plt.xlabel(\"Predicted value\")\n",
    "print \"F1 score: %f\" % skl.metrics.f1_score(y_test, y_pred)\n",
    "coefs = pd.Series(cls.coef_[0], index=X_train.columns)\n",
    "coefs.sort_values(inplace=True)\n",
    "ax = plt.subplot(2,1,2)\n",
    "coefs.plot(kind=\"bar\")\n",
    "plt.show()"
   ]
  },
  {
   "cell_type": "markdown",
   "metadata": {},
   "source": [
    "# 2 Random Forest"
   ]
  },
  {
   "cell_type": "code",
   "execution_count": 113,
   "metadata": {
    "collapsed": false
   },
   "outputs": [
    {
     "data": {
      "text/html": [
       "<div>\n",
       "<table border=\"1\" class=\"dataframe\">\n",
       "  <thead>\n",
       "    <tr style=\"text-align: right;\">\n",
       "      <th></th>\n",
       "      <th>age</th>\n",
       "      <th>workclassFederal-gov</th>\n",
       "      <th>workclassLocal-gov</th>\n",
       "      <th>workclassNever-worked</th>\n",
       "      <th>workclassPrivate</th>\n",
       "      <th>workclassSelf-emp-inc</th>\n",
       "      <th>workclassSelf-emp-not-inc</th>\n",
       "      <th>workclassState-gov</th>\n",
       "      <th>workclassWithout-pay</th>\n",
       "      <th>fnlwgt</th>\n",
       "      <th>...</th>\n",
       "      <th>native_countryPuerto-Rico</th>\n",
       "      <th>native_countryScotland</th>\n",
       "      <th>native_countrySouth</th>\n",
       "      <th>native_countryTaiwan</th>\n",
       "      <th>native_countryThailand</th>\n",
       "      <th>income_target_50k</th>\n",
       "      <th>native_countryUnited-States</th>\n",
       "      <th>native_countryVietnam</th>\n",
       "      <th>native_countryYugoslavia</th>\n",
       "      <th>income_target&gt;50K</th>\n",
       "    </tr>\n",
       "  </thead>\n",
       "  <tbody>\n",
       "    <tr>\n",
       "      <th>0</th>\n",
       "      <td>39</td>\n",
       "      <td>0</td>\n",
       "      <td>0</td>\n",
       "      <td>0</td>\n",
       "      <td>0</td>\n",
       "      <td>0</td>\n",
       "      <td>0</td>\n",
       "      <td>1</td>\n",
       "      <td>0</td>\n",
       "      <td>77516</td>\n",
       "      <td>...</td>\n",
       "      <td>0</td>\n",
       "      <td>0</td>\n",
       "      <td>0</td>\n",
       "      <td>0</td>\n",
       "      <td>0</td>\n",
       "      <td>0</td>\n",
       "      <td>1</td>\n",
       "      <td>0</td>\n",
       "      <td>0</td>\n",
       "      <td>0</td>\n",
       "    </tr>\n",
       "  </tbody>\n",
       "</table>\n",
       "<p>1 rows × 101 columns</p>\n",
       "</div>"
      ],
      "text/plain": [
       "   age  workclassFederal-gov  workclassLocal-gov  workclassNever-worked  \\\n",
       "0   39                     0                   0                      0   \n",
       "\n",
       "   workclassPrivate  workclassSelf-emp-inc  workclassSelf-emp-not-inc  \\\n",
       "0                 0                      0                          0   \n",
       "\n",
       "   workclassState-gov  workclassWithout-pay  fnlwgt        ...          \\\n",
       "0                   1                     0   77516        ...           \n",
       "\n",
       "   native_countryPuerto-Rico  native_countryScotland  native_countrySouth  \\\n",
       "0                          0                       0                    0   \n",
       "\n",
       "   native_countryTaiwan  native_countryThailand  income_target_50k  \\\n",
       "0                     0                       0                  0   \n",
       "\n",
       "   native_countryUnited-States  native_countryVietnam  \\\n",
       "0                            1                      0   \n",
       "\n",
       "   native_countryYugoslavia  income_target>50K  \n",
       "0                         0                  0  \n",
       "\n",
       "[1 rows x 101 columns]"
      ]
     },
     "execution_count": 113,
     "metadata": {},
     "output_type": "execute_result"
    }
   ],
   "source": [
    "# import libraries: dataframe manipulation, machine learning, os tools\n",
    "from pandas import Series, DataFrame\n",
    "import pandas as pd\n",
    "import numpy as np\n",
    "import os\n",
    "import matplotlib.pylab as plt\n",
    "from sklearn.cross_validation import train_test_split\n",
    "from sklearn.tree import DecisionTreeClassifier\n",
    "from sklearn.metrics import classification_report\n",
    "import sklearn.metrics\n",
    " # Feature Importance\n",
    "from sklearn import datasets\n",
    "from sklearn.ensemble import ExtraTreesClassifier\n",
    "\n",
    "# change working directory to where the dataset is\n",
    "# os.chdir(\"C:/Users/JD87417/Desktop/python work/Coursera\")\n",
    "\n",
    "# Load the dataset (http://archive.ics.uci.edu/ml/datasets/Adult)\n",
    "AH_data = pd.read_csv(\"/media/harshil/Harshil/Ubuntu/prepdata.csv\")\n",
    "# AH_data = AH_data.drop('(Intercept)',axis=1)\n",
    "data_clean = AH_data.dropna()\n",
    "\n",
    "# encode categorical features\n",
    "# done in R (C:\\Users\\JD87417\\Desktop\\python work\\Coursera\\python_adult2_clean.R)\n",
    "# do one hot encoding and name the columns\n",
    "\n",
    "# summary statistics including counts, mean, stdev, quartiles\n",
    "data_clean.head(n=1)\n",
    "# data_clean.dtypes # data types of each variable\n",
    "# data_clean.describe()\n"
   ]
  },
  {
   "cell_type": "code",
   "execution_count": 114,
   "metadata": {
    "collapsed": false
   },
   "outputs": [
    {
     "data": {
      "text/plain": [
       "0    13\n",
       "Name: Education_num, dtype: int64"
      ]
     },
     "execution_count": 114,
     "metadata": {},
     "output_type": "execute_result"
    }
   ],
   "source": [
    "data_clean[\"Education_num\"].head(1)"
   ]
  },
  {
   "cell_type": "code",
   "execution_count": 115,
   "metadata": {
    "collapsed": false
   },
   "outputs": [],
   "source": [
    "\n",
    "# Split into training and testing sets\n",
    "# Specifying predictor x variables\n",
    "\n",
    "predictors = data_clean[[\"age\", \"workclassLocal-gov\", \"workclassPrivate\",\n",
    "\"workclassSelf-emp-inc\", \"workclassSelf-emp-not-inc\", \"workclassState-gov\",\n",
    "\"workclassWithout-pay\", \"fnlwgt\", \"education11th\", \"education12th\",\n",
    "\"education1st-4th\", \"education5th-6th\", \"education7th-8th\", \"education9th\",\n",
    "\"educationAssoc-acdm\", \"educationAssoc-voc\", \"educationBachelors\",\n",
    "\"educationDoctorate\", \"educationHS-grad\", \"educationMasters\",\n",
    "\"educationPreschool\", \"educationProf-school\", \"educationSome-college\",\n",
    "\"Education_num\", \"martial_statusMarried-AF-spouse\", \"martial_statusMarried-civ-spouse\",\n",
    "\"martial_statusMarried-spouse-absent\", \"martial_statusNever-married\",\n",
    "\"martial_statusSeparated\", \"martial_statusWidowed\", \"occupationArmed-Forces\",\n",
    "\"occupationCraft-repair\", \"occupationExec-managerial\", \"occupationFarming-fishing\",\n",
    "\"occupationHandlers-cleaners\", \"occupationMachine-op-inspct\",\n",
    "\"occupationOther-service\", \"occupationPriv-house-serv\", \"occupationProf-specialty\",\n",
    "\"occupationProtective-serv\", \"occupationSales\", \"occupationTech-support\",\n",
    "\"occupationTransport-moving\", \"relationshipNot-in-family\", \"relationshipOther-relative\",\n",
    "\"relationshipOwn-child\", \"relationshipUnmarried\", \"relationshipWife\",\n",
    "\"raceAsian-Pac-Islander\", \"raceBlack\", \"raceOther\", \"raceWhite\",\n",
    "\"sexMale\", \"capital_gain\", \"capital_loss\", \"hours_per_week\",\n",
    "\"native_countryCanada\", \"native_countryChina\", \"native_countryColumbia\",\n",
    "\"native_countryCuba\", \"native_countryDominican-Republic\", \"native_countryEcuador\",\n",
    "\"native_countryEl-Salvador\", \"native_countryEngland\", \"native_countryFrance\",\n",
    "\"native_countryGermany\", \"native_countryGreece\", \"native_countryGuatemala\",\n",
    "\"native_countryHaiti\", \"native_countryHoland-Netherlands\", \"native_countryHonduras\",\n",
    "\"native_countryHong\", \"native_countryHungary\", \"native_countryIndia\",\n",
    "\"native_countryIran\", \"native_countryIreland\", \"native_countryItaly\",\n",
    "\"native_countryJamaica\", \"native_countryJapan\", \"native_countryLaos\",\n",
    "\"native_countryMexico\", \"native_countryNicaragua\", \"native_countryOutlying-US(Guam-USVI-etc)\",\n",
    "\"native_countryPeru\", \"native_countryPhilippines\", \"native_countryPoland\",\n",
    "\"native_countryPortugal\", \"native_countryPuerto-Rico\", \"native_countryScotland\",\n",
    "\"native_countrySouth\", \"native_countryTaiwan\", \"native_countryThailand\",\n",
    "\"native_countryUnited-States\",\n",
    "\"native_countryVietnam\", \"native_countryYugoslavia\"]]\n"
   ]
  },
  {
   "cell_type": "code",
   "execution_count": 116,
   "metadata": {
    "collapsed": false
   },
   "outputs": [
    {
     "name": "stdout",
     "output_type": "stream",
     "text": [
      "(19536, 95)\n",
      "(13025, 95)\n",
      "(19536,)\n",
      "(13025,)\n"
     ]
    }
   ],
   "source": [
    "# y repsonse variable\n",
    "targets = data_clean.income_target_50k\n",
    "\n",
    "# concurrent split of x's, y, at 40%\n",
    "pred_train, pred_test, tar_train, tar_test  = train_test_split(predictors, targets, test_size=.4)\n",
    "\n",
    "# shape/dimensions of the DataFrame\n",
    "print pred_train.shape\n",
    "print pred_test.shape\n",
    "print tar_train.shape\n",
    "print tar_test.shape"
   ]
  },
  {
   "cell_type": "code",
   "execution_count": 117,
   "metadata": {
    "collapsed": false
   },
   "outputs": [
    {
     "name": "stdout",
     "output_type": "stream",
     "text": [
      "[  8.13701024e-02   1.05498563e-02   1.29022667e-02   3.66815994e-06\n",
      "   2.93246457e-02   3.22178211e-02   0.00000000e+00   1.16648142e-01\n",
      "   2.56580995e-04   7.71197692e-03   3.85309926e-04   1.89189416e-02\n",
      "   3.94962696e-03   3.45208204e-02   2.77934985e-03   4.47455240e-04\n",
      "   1.96728446e-03   0.00000000e+00   1.85023314e-02   4.96722544e-05\n",
      "   1.69174283e-04   0.00000000e+00   1.47685377e-02   1.93999244e-02\n",
      "   0.00000000e+00   1.49965563e-02   8.82233042e-04   1.89814467e-02\n",
      "   4.33172564e-03   8.72330854e-04   0.00000000e+00   1.54522255e-02\n",
      "   8.19467784e-03   1.70296758e-05   2.94721874e-03   3.00598409e-02\n",
      "   2.12815796e-02   1.28290498e-03   1.71722712e-03   5.40193330e-03\n",
      "   2.21521200e-04   2.29288657e-02   2.09944095e-02   1.18919942e-02\n",
      "   3.48963417e-03   1.67327868e-03   1.45854663e-02   6.85665533e-03\n",
      "   3.99312044e-03   4.28181492e-02   9.29087839e-03   3.00898706e-02\n",
      "   1.53590874e-02   4.13465264e-03   6.55248397e-02   7.89191175e-02\n",
      "   1.84628719e-04   1.10838363e-03   3.35073305e-05   0.00000000e+00\n",
      "   1.56874195e-04   0.00000000e+00   0.00000000e+00   0.00000000e+00\n",
      "   0.00000000e+00   6.75816014e-04   0.00000000e+00   0.00000000e+00\n",
      "   6.20365936e-03   0.00000000e+00   0.00000000e+00   3.84871493e-03\n",
      "   0.00000000e+00   3.98616903e-03   0.00000000e+00   0.00000000e+00\n",
      "   0.00000000e+00   1.21213912e-02   2.24760263e-04   0.00000000e+00\n",
      "   1.72805069e-02   1.19781984e-07   0.00000000e+00   0.00000000e+00\n",
      "   3.89144401e-03   0.00000000e+00   0.00000000e+00   2.98874566e-04\n",
      "   0.00000000e+00   7.04570239e-05   0.00000000e+00   0.00000000e+00\n",
      "   7.93869207e-02   4.49381203e-03   0.00000000e+00]\n"
     ]
    }
   ],
   "source": [
    "# Build model on training data\n",
    "from sklearn.ensemble import RandomForestClassifier\n",
    "\n",
    "# n_estimators is the amount of trees to build\n",
    "classifier=RandomForestClassifier(n_estimators=25)\n",
    "# fit the RandomForest Model\n",
    "classifier=classifier.fit(pred_train,tar_train)\n",
    "# prediction scoring of the model (array of binary 0-1)\n",
    "predictions=classifier.predict(pred_test)\n",
    "# confusion matrix / missclassification matrix\n",
    "sklearn.metrics.confusion_matrix(tar_test,predictions)\n",
    "sklearn.metrics.accuracy_score(tar_test, predictions)\n",
    "\n",
    "\n",
    "# fit an Extra Trees model to the data\n",
    "model = ExtraTreesClassifier()\n",
    "model.fit(pred_train,tar_train)\n",
    "# display the relative importance of each attribute\n",
    "print(model.feature_importances_)\n",
    "\n"
   ]
  },
  {
   "cell_type": "code",
   "execution_count": 118,
   "metadata": {
    "collapsed": false
   },
   "outputs": [
    {
     "name": "stdout",
     "output_type": "stream",
     "text": [
      "0.116648142339\n"
     ]
    }
   ],
   "source": [
    "print(max(model.feature_importances_))\n",
    "max_val = np.where(model.feature_importances_ == max(model.feature_importances_))\n",
    "\n",
    "min_val = np.where(model.feature_importances_ == min(model.feature_importances_))\n",
    "\n"
   ]
  },
  {
   "cell_type": "code",
   "execution_count": 119,
   "metadata": {
    "collapsed": false
   },
   "outputs": [
    {
     "name": "stdout",
     "output_type": "stream",
     "text": [
      "((array([7]),), (array([ 6, 17, 21, 24, 30, 59, 61, 62, 63, 64, 66, 67, 69, 70, 72, 74, 75,\n",
      "       76, 79, 82, 83, 85, 86, 88, 90, 91, 94]),))\n"
     ]
    }
   ],
   "source": [
    "print(max_val, min_val)"
   ]
  },
  {
   "cell_type": "code",
   "execution_count": 120,
   "metadata": {
    "collapsed": false
   },
   "outputs": [],
   "source": [
    "\"\"\"\n",
    "Running a different number of trees and see the effect\n",
    " of that on the accuracy of the prediction\n",
    "\"\"\"\n",
    "\n",
    "trees=range(25)\n",
    "accuracy=np.zeros(25)\n",
    "\n",
    "for idx in range(len(trees)):\n",
    "    classifier=RandomForestClassifier(n_estimators=idx + 1)\n",
    "    classifier=classifier.fit(pred_train,tar_train)\n",
    "    predictions=classifier.predict(pred_test)\n",
    "    accuracy[idx]=sklearn.metrics.accuracy_score(tar_test, predictions)\n",
    "\n",
    "plt.cla()\n",
    "plt.plot(trees, accuracy)\n",
    "plt.show()"
   ]
  },
  {
   "cell_type": "markdown",
   "metadata": {},
   "source": []
  }
 ],
 "metadata": {
  "anaconda-cloud": {},
  "kernelspec": {
   "display_name": "Python 2",
   "language": "python",
   "name": "python2"
  },
  "language_info": {
   "codemirror_mode": {
    "name": "ipython",
    "version": 2
   },
   "file_extension": ".py",
   "mimetype": "text/x-python",
   "name": "python",
   "nbconvert_exporter": "python",
   "pygments_lexer": "ipython2",
   "version": "2.7.11"
  }
 },
 "nbformat": 4,
 "nbformat_minor": 0
}
