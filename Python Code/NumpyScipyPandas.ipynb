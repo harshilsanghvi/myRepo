{
 "cells": [
  {
   "cell_type": "code",
   "execution_count": 71,
   "metadata": {
    "collapsed": false
   },
   "outputs": [
    {
     "name": "stdout",
     "output_type": "stream",
     "text": [
      "2 3 5 7 11 13 17 19 23 29 31 37 41 43 47 53 59 61 67 71 73 79 83 89 97 "
     ]
    }
   ],
   "source": [
    "# Numpy \n",
    "#  -------------YIELD--------------\n",
    "# Find Prime Number\n",
    "from __future__ import print_function\n",
    "def isPrime(n):\n",
    "    if n == 1:\n",
    "        return False\n",
    "    for t in range(2,n):\n",
    "        if n%t == 0:\n",
    "            return False\n",
    "    return True\n",
    "\n",
    "def primes(n=1):\n",
    "    while(n<100):\n",
    "        if isPrime(n): yield n\n",
    "        n += 1\n",
    "for n in primes():\n",
    "    print (n, end = ' ')   "
   ]
  },
  {
   "cell_type": "code",
   "execution_count": 52,
   "metadata": {
    "collapsed": false
   },
   "outputs": [
    {
     "name": "stdout",
     "output_type": "stream",
     "text": [
      "0 1 1 2 3 5 8 13 21 34 "
     ]
    }
   ],
   "source": [
    "# fibonacci\n",
    "def fibo(n):\n",
    "    i = 0\n",
    "    j = 1\n",
    "    for x in range(0,n):\n",
    "        print (i, end = ' ')\n",
    "        i, j = j,i + j\n",
    "fibo(10)"
   ]
  },
  {
   "cell_type": "code",
   "execution_count": 53,
   "metadata": {
    "collapsed": false
   },
   "outputs": [
    {
     "name": "stdout",
     "output_type": "stream",
     "text": [
      "2 3 5 7 11 13 17 19 23 29 31 37 41 43 47 53 59 61 67 71 73 79 83 89 97 "
     ]
    }
   ],
   "source": [
    "def primes(n=1):\n",
    "    while n < 100:\n",
    "        if isPrime(n):print (n, end = ' ')\n",
    "        n += 1\n",
    "primes(1)            "
   ]
  },
  {
   "cell_type": "code",
   "execution_count": 50,
   "metadata": {
    "collapsed": false
   },
   "outputs": [
    {
     "data": {
      "text/plain": [
       "'0 1 2 3 4 5 6 7 8 9 10 11 12 13 14 15 16 17 18 19'"
      ]
     },
     "execution_count": 50,
     "metadata": {},
     "output_type": "execute_result"
    }
   ],
   "source": [
    "[x**3 for x in range(0,6)]"
   ]
  },
  {
   "cell_type": "code",
   "execution_count": 54,
   "metadata": {
    "collapsed": false
   },
   "outputs": [
    {
     "data": {
      "text/plain": [
       "'0 1 2 3 4 5 6 7 8 9 10 11 12 13 14 15 16 17 18 19'"
      ]
     },
     "execution_count": 54,
     "metadata": {},
     "output_type": "execute_result"
    }
   ],
   "source": [
    "' '.join([`x` for x in range(0,20)])"
   ]
  },
  {
   "cell_type": "code",
   "execution_count": 74,
   "metadata": {
    "collapsed": false
   },
   "outputs": [
    {
     "data": {
      "text/plain": [
       "'012345678910111213141516171819'"
      ]
     },
     "execution_count": 74,
     "metadata": {},
     "output_type": "execute_result"
    }
   ],
   "source": [
    "''.join([str(x) for x in list(range(20))])"
   ]
  },
  {
   "cell_type": "code",
   "execution_count": 75,
   "metadata": {
    "collapsed": false
   },
   "outputs": [
    {
     "name": "stdout",
     "output_type": "stream",
     "text": [
      "/home/harshil\n"
     ]
    }
   ],
   "source": [
    "import os\n",
    "print (os.path.expanduser('~'))"
   ]
  },
  {
   "cell_type": "code",
   "execution_count": 90,
   "metadata": {
    "collapsed": false
   },
   "outputs": [
    {
     "name": "stdout",
     "output_type": "stream",
     "text": [
      "No such file exists\n"
     ]
    }
   ],
   "source": [
    "try:\n",
    "    with open('filename','r') as f:\n",
    "        print (f.read())\n",
    "except IOError:\n",
    "    print (\"No such file exists\")"
   ]
  },
  {
   "cell_type": "code",
   "execution_count": 87,
   "metadata": {
    "collapsed": false
   },
   "outputs": [
    {
     "name": "stdout",
     "output_type": "stream",
     "text": [
      "[('1', '2'), ('1', '3'), ('2', '3')]\n",
      "[('1', '2'), ('1', '3'), ('2', '1'), ('2', '3'), ('3', '1'), ('3', '2')]\n"
     ]
    },
    {
     "data": {
      "text/plain": [
       "'Spoon'"
      ]
     },
     "execution_count": 87,
     "metadata": {},
     "output_type": "execute_result"
    }
   ],
   "source": [
    "import re\n",
    "import itertools\n",
    "print ([x for x in itertools.combinations('123',2)])\n",
    "print ([x for x in itertools.permutations('123',2)])\n",
    "re.sub('[aeu]', 'n', re.sub('[abc]', 'o', 'Space'))"
   ]
  },
  {
   "cell_type": "code",
   "execution_count": null,
   "metadata": {
    "collapsed": true
   },
   "outputs": [],
   "source": [
    "?itertools\n",
    "?print\n",
    "?sequence\n",
    "?linespace\n",
    "?matrix"
   ]
  },
  {
   "cell_type": "code",
   "execution_count": 95,
   "metadata": {
    "collapsed": false
   },
   "outputs": [],
   "source": [
    "import numpy as np\n",
    "# dir(np)"
   ]
  },
  {
   "cell_type": "code",
   "execution_count": 100,
   "metadata": {
    "collapsed": false
   },
   "outputs": [
    {
     "name": "stdout",
     "output_type": "stream",
     "text": [
      "[1, 2, 3, 4, 5, 7, 8, 10]\n"
     ]
    }
   ],
   "source": [
    "dup_list = [1,2,3,4,4,4,5,1,2,7,8,8,10]\n",
    "unique_list = list(set(dup_list))\n",
    "print (unique_list)"
   ]
  },
  {
   "cell_type": "code",
   "execution_count": 102,
   "metadata": {
    "collapsed": false
   },
   "outputs": [
    {
     "data": {
      "text/plain": [
       "[0, 2, 4, 6, 8, 10]"
      ]
     },
     "execution_count": 102,
     "metadata": {},
     "output_type": "execute_result"
    }
   ],
   "source": [
    "integers = [ x for x in range(11)]\n",
    "filter(lambda x: x % 2 == 0, integers)\n"
   ]
  },
  {
   "cell_type": "code",
   "execution_count": 104,
   "metadata": {
    "collapsed": false
   },
   "outputs": [
    {
     "data": {
      "text/plain": [
       "[0, 1, 4, 9, 16, 25, 36, 49, 64, 81, 100]"
      ]
     },
     "execution_count": 104,
     "metadata": {},
     "output_type": "execute_result"
    }
   ],
   "source": [
    "map(lambda x: x**2, integers)\n"
   ]
  },
  {
   "cell_type": "code",
   "execution_count": 106,
   "metadata": {
    "collapsed": false
   },
   "outputs": [
    {
     "data": {
      "text/plain": [
       "55"
      ]
     },
     "execution_count": 106,
     "metadata": {},
     "output_type": "execute_result"
    }
   ],
   "source": [
    "reduce(lambda x, y: x + y, integers)"
   ]
  },
  {
   "cell_type": "code",
   "execution_count": 111,
   "metadata": {
    "collapsed": false
   },
   "outputs": [],
   "source": [
    "def print_all(*args):\n",
    "    for x in enumerate(args):\n",
    "        print (x)"
   ]
  },
  {
   "cell_type": "code",
   "execution_count": 112,
   "metadata": {
    "collapsed": false
   },
   "outputs": [
    {
     "name": "stdout",
     "output_type": "stream",
     "text": [
      "(0, 'A')\n",
      "(1, 'b')\n",
      "(2, 'b')\n",
      "(3, 'a')\n"
     ]
    }
   ],
   "source": [
    "print_all('A','b','b','a')"
   ]
  },
  {
   "cell_type": "code",
   "execution_count": 116,
   "metadata": {
    "collapsed": false
   },
   "outputs": [
    {
     "name": "stdout",
     "output_type": "stream",
     "text": [
      "[5, 6, 7, 8]\n",
      "[5, 6, 7]\n",
      "[5, 7]\n"
     ]
    }
   ],
   "source": [
    "a = [5,6,7,7,8]\n",
    "\n",
    "a.remove(7)\n",
    "print (a)\n",
    "a.pop()\n",
    "print (a)\n",
    "del a[1]\n",
    "print (a)"
   ]
  },
  {
   "cell_type": "code",
   "execution_count": 120,
   "metadata": {
    "collapsed": false
   },
   "outputs": [
    {
     "name": "stdout",
     "output_type": "stream",
     "text": [
      "Black\n",
      "holes\n",
      "are\n",
      "where\n",
      "God\n",
      "divided\n",
      "by\n",
      "zero\n"
     ]
    }
   ],
   "source": [
    "s = ['Black', 'holes', 'are', 'where', 'God', 'divided', 'by', 'zero']\n",
    "print ('\\n'.join(s))"
   ]
  },
  {
   "cell_type": "code",
   "execution_count": 122,
   "metadata": {
    "collapsed": false
   },
   "outputs": [
    {
     "data": {
      "text/plain": [
       "'0123456789'"
      ]
     },
     "execution_count": 122,
     "metadata": {},
     "output_type": "execute_result"
    }
   ],
   "source": [
    "''.join([str(x) for x in range(0,10)])"
   ]
  },
  {
   "cell_type": "code",
   "execution_count": 145,
   "metadata": {
    "collapsed": false
   },
   "outputs": [
    {
     "name": "stdout",
     "output_type": "stream",
     "text": [
      "[[1 5 3]\n",
      " [5 2 8]\n",
      " [4 7 2]]\n",
      "[[3 3 5]\n",
      " [7 2 4]\n",
      " [6 2 3]]\n",
      "[[-1 -1 -5]\n",
      " [-1 -6  5]\n",
      " [-5 -2 -1]]\n"
     ]
    }
   ],
   "source": [
    "import numpy as np\n",
    "m = np.matrix([[1,5,3],[5,2,8],[4,7,2]])\n",
    "n = np.matrix([[3,3,5],[7,2,4],[6,2,3]])\n",
    "o = np.matrix([[2,6,8],[6,8,3],[9,9,3]])\n",
    "v = m * 4 \n",
    "b = m - o\n",
    "print (m)\n",
    "# print (n)\n",
    "print (n)\n",
    "print (b)"
   ]
  },
  {
   "cell_type": "code",
   "execution_count": 144,
   "metadata": {
    "collapsed": false
   },
   "outputs": [
    {
     "name": "stdout",
     "output_type": "stream",
     "text": [
      "[[56 19 34]\n",
      " [77 35 57]\n",
      " [73 30 54]]\n",
      "[[ 3 15 15]\n",
      " [35  4 32]\n",
      " [24 14  6]]\n"
     ]
    }
   ],
   "source": [
    "f = m * n\n",
    "print (f)\n",
    "c = np.multiply(m,n)\n",
    "print (c)"
   ]
  },
  {
   "cell_type": "code",
   "execution_count": 160,
   "metadata": {
    "collapsed": false
   },
   "outputs": [
    {
     "name": "stdout",
     "output_type": "stream",
     "text": [
      "Brand -  Audi ; Max Speed -  230\n",
      "Brand -  Honda ; Max Speed -  180\n"
     ]
    }
   ],
   "source": [
    "#  Question 2\n",
    "class Car():\n",
    "    def __init__(self):\n",
    "        self.brand = \"\"\n",
    "        self.maxSpeed = 0\n",
    "        \n",
    "    def setBrand(self, brands):\n",
    "        self.brand = brands\n",
    "    def setmaxSpeed(self, speed):\n",
    "        self.maxSpeed = speed\n",
    "    def printData(self):\n",
    "        print (\"Brand - \",self.brand,\"; Max Speed - \",self.maxSpeed)\n",
    "        \n",
    "a = Car()\n",
    "a.setBrand(\"Audi\")\n",
    "a.setmaxSpeed(230)\n",
    "a.printData()\n",
    "\n",
    "b = Car()\n",
    "b.setBrand(\"Honda\")\n",
    "b.setmaxSpeed(180)\n",
    "b.printData()"
   ]
  },
  {
   "cell_type": "code",
   "execution_count": null,
   "metadata": {
    "collapsed": true
   },
   "outputs": [],
   "source": []
  },
  {
   "cell_type": "code",
   "execution_count": null,
   "metadata": {
    "collapsed": true
   },
   "outputs": [],
   "source": []
  }
 ],
 "metadata": {
  "kernelspec": {
   "display_name": "Python 2",
   "language": "python",
   "name": "python2"
  },
  "language_info": {
   "codemirror_mode": {
    "name": "ipython",
    "version": 2
   },
   "file_extension": ".py",
   "mimetype": "text/x-python",
   "name": "python",
   "nbconvert_exporter": "python",
   "pygments_lexer": "ipython2",
   "version": "2.7.11"
  }
 },
 "nbformat": 4,
 "nbformat_minor": 0
}
