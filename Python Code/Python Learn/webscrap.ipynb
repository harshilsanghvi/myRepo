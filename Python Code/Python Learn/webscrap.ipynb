{
 "cells": [
  {
   "cell_type": "code",
   "execution_count": null,
   "metadata": {
    "collapsed": false
   },
   "outputs": [],
   "source": [
    "# jupyter nbconvert --to script 'my-notebook.ipynb'"
   ]
  },
  {
   "cell_type": "code",
   "execution_count": null,
   "metadata": {
    "collapsed": false
   },
   "outputs": [],
   "source": [
    "import os\n",
    "import sys\n",
    "import re\n",
    "import string\n",
    "import random"
   ]
  },
  {
   "cell_type": "code",
   "execution_count": null,
   "metadata": {
    "collapsed": true
   },
   "outputs": [],
   "source": [
    "from urllib.request import urlopen as ureq\n",
    "from bs4 import BeautifulSoup as soup\n",
    "import re\n",
    "my_url = 'https://www.newegg.com/global/in/Product/ProductList.aspx?Submit=ENE&N=-1&IsNodeId=1&Description=graphics%20card&bop=And&Order=BESTSELLING&PageSize=12'\n",
    "uclient = ureq(my_url)\n",
    "page_html = uclient.read()\n",
    "uclient.close()\n",
    "page_soup = soup(page_html, \"html.parser\")\n",
    "containers = page_soup.findAll(\"div\",{\"class\":\"item-container\"})\n",
    "filename = \"products.csv\"\n",
    "f = open(filename,\"w\")\n",
    "headers = \"product_name,prod_brand,prod_price\\n\"\n",
    "f.write(headers)\n",
    "for container in containers:\n",
    "    title_container = container.findAll(\"a\",{\"class\",\"item-title\"})\n",
    "    name = title_container[0].text\n",
    "    name = name.replace(\",\",\"|\")\n",
    "    brand = container.div.div.a.img['title']\n",
    "    brand = brand.replace(\",\",\"_\")\n",
    "    shipping_container = container.findAll(\"li\",{\"class\",\"price-current\"})\n",
    "    product_price = shipping_container[0].text.strip('\\n')\n",
    "    product_price = re.search(r'\\W+(?<=)\\d+,*(?<=)\\d+',product_price)\n",
    "    product_price1 = product_price.group(0)\n",
    "    product_price1 = product_price1.replace(\",\",\".\")\n",
    "    print(name, brand, product_price1)\n",
    "    f.write(name+\",\"+brand+\",\"+product_price1+\"\\n\")\n",
    "f.close()"
   ]
  },
  {
   "cell_type": "code",
   "execution_count": null,
   "metadata": {
    "collapsed": false
   },
   "outputs": [],
   "source": [
    "l = listdir(\"D:/Setup\")\n",
    "print('\\n'.join(l))"
   ]
  },
  {
   "cell_type": "code",
   "execution_count": 54,
   "metadata": {
    "collapsed": false
   },
   "outputs": [
    {
     "name": "stdout",
     "output_type": "stream",
     "text": [
      "abcdefghijklmnopqrstuvwxyz\n",
      "aNew.txt > file changed to > wNew.txt\n",
      "aNews.txt > file changed to > mNews.txt\n",
      "vNews.txt > file changed to > zNews.txt\n",
      "yRep.txt > file changed to > qRep.txt\n"
     ]
    }
   ],
   "source": [
    "alpha = string.ascii_lowercase # get lowercase alphabets\n",
    "paths = \"D:/Setup/\"\n",
    "for filename in listdir(paths):\n",
    "    for i in range(0,len(alpha)):\n",
    "        if filename.startswith(alpha[i]) and filename.endswith('.txt'):\n",
    "            g = random.randint(0,25)\n",
    "            newfilename = alpha[g]+filename[1:]\n",
    "            print(filename ,'> file changed to >',newfilename)\n",
    "            os.rename(paths+filename,paths+newfilename)"
   ]
  },
  {
   "cell_type": "code",
   "execution_count": null,
   "metadata": {
    "collapsed": false
   },
   "outputs": [],
   "source": [
    "os.remove() will remove a file.\n",
    "os.rmdir() will remove an empty directory.\n",
    "shutil.rmtree() will delete a directory and all its contents."
   ]
  },
  {
   "cell_type": "code",
   "execution_count": 22,
   "metadata": {
    "collapsed": false
   },
   "outputs": [],
   "source": [
    "def readfile(path):\n",
    "    try:\n",
    "        with open(path) as f:\n",
    "            content = f.readlines()\n",
    "        content = [x.strip() for x in content]\n",
    "        f.close()\n",
    "        print(content)\n",
    "    except IOError:\n",
    "        print (\"I/O error({0}): {1}\".format(e.errno, e.strerror))\n",
    "    except:\n",
    "        print (\"Unexpected error:\", sys.exc_info()[0])\n",
    "\n",
    "def writefile(path):\n",
    "    try:\n",
    "        f = open(path,'a')\n",
    "        movielist = ['inception', 'godfather']\n",
    "        [f.write(\"\\n\"+x) for x in movielist]\n",
    "    except IOError:\n",
    "        print (\"I/O error({0}): {1}\".format(e.errno, e.strerror))\n",
    "    except:\n",
    "        print (\"Unexpected error:\", sys.exc_info()[0])\n",
    "        \n",
    "writefile('D:/Users/hsanghvi/Desktop/Movies.txt')"
   ]
  },
  {
   "cell_type": "code",
   "execution_count": null,
   "metadata": {
    "collapsed": true
   },
   "outputs": [],
   "source": []
  }
 ],
 "metadata": {
  "kernelspec": {
   "display_name": "Python 3",
   "language": "python",
   "name": "python3"
  },
  "language_info": {
   "codemirror_mode": {
    "name": "ipython",
    "version": 3
   },
   "file_extension": ".py",
   "mimetype": "text/x-python",
   "name": "python",
   "nbconvert_exporter": "python",
   "pygments_lexer": "ipython3",
   "version": "3.6.0"
  }
 },
 "nbformat": 4,
 "nbformat_minor": 2
}
