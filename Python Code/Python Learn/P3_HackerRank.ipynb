{
 "cells": [
  {
   "cell_type": "code",
   "execution_count": 49,
   "metadata": {
    "collapsed": false
   },
   "outputs": [
    {
     "name": "stdout",
     "output_type": "stream",
     "text": [
      "2\n",
      "sd\n",
      "23\n",
      "er\n",
      "32\n",
      "er\n"
     ]
    }
   ],
   "source": [
    "# Question: Nested Lists in Python\n",
    "students = []\n",
    "s = []\n",
    "for _ in range(int(input())):\n",
    "    name = input()\n",
    "    score = float(input())\n",
    "    students.append([name,score])\n",
    "stu = sorted(students,key = lambda x:x[1])\n",
    "_score = [i[1] for i in students]\n",
    "s_score = list(set(_score))\n",
    "s_score.sort()\n",
    "[s.append(i) for i in stu if i[1] == s_score[1]]\n",
    "ss = sorted(s,key = lambda x:x[0])\n",
    "for i in ss:\n",
    "    print(i[0],sep=',')"
   ]
  },
  {
   "cell_type": "code",
   "execution_count": 1,
   "metadata": {
    "collapsed": false
   },
   "outputs": [
    {
     "name": "stdout",
     "output_type": "stream",
     "text": [
      "1\n",
      "322\n",
      "0.00\n"
     ]
    }
   ],
   "source": [
    "n = int(input())\n",
    "student_marks = {}\n",
    "for _ in range(n):\n",
    "    name, *line = input().split()\n",
    "    scores = list(map(float, line))\n",
    "    student_marks[name] = scores\n",
    "d = (sum(student_marks[name])/3)\n",
    "print(\"%.2f\" % d)\n",
    "# query_name = input()"
   ]
  },
  {
   "cell_type": "code",
   "execution_count": 188,
   "metadata": {
    "collapsed": true
   },
   "outputs": [],
   "source": []
  },
  {
   "cell_type": "code",
   "execution_count": 216,
   "metadata": {
    "collapsed": false
   },
   "outputs": [],
   "source": [
    "def stu(s):\n",
    "    dit = {}\n",
    "    di = {}\n",
    "    gi = {}\n",
    "    r = 0\n",
    "    vow = ['A','E','I','O','U']\n",
    "    for i in range(0,len(s)):\n",
    "        if s[i] not in vow:\n",
    "            r = i+1\n",
    "            break\n",
    "    for i in range(0,len(s)):\n",
    "        if s[i] not in vow:\n",
    "            if s[i] in dit:\n",
    "                dit[s[i]] += 1\n",
    "            else:\n",
    "                dit[s[i]] = 1\n",
    "    print (r,len(s), dit)\n",
    "    for i in range(r,len(s)):\n",
    "        if(i!=r):\n",
    "            for key,value in dit.items():\n",
    "                if key in gi:\n",
    "                    n = key + s[i]\n",
    "                    sub_len = len(n)\n",
    "                    results = 0\n",
    "                    for q in range(len(s)):\n",
    "                        if s[q:q+sub_len] == n:\n",
    "                            results += 1\n",
    "                    for m in range(0,results):\n",
    "                        if n in di:\n",
    "                            di[n] += 1\n",
    "                        else:\n",
    "                            di[n] = 1\n",
    "            gi = di\n",
    "            print(di, sep = '\\n')\n",
    "            dit.update(di) \n",
    "            di = {}\n",
    "        else:\n",
    "            for key,value in dit.items():\n",
    "                n = key + s[i]\n",
    "                sub_len = len(n)\n",
    "                results = 0\n",
    "                for q in range(len(s)):\n",
    "                    if s[q:q+sub_len] == n:\n",
    "                        results += 1\n",
    "                for m in range(0,results):\n",
    "                    if n in di:\n",
    "                        di[n] += 1\n",
    "                    else:\n",
    "                        di[n] = 1\n",
    "            gi = di\n",
    "            print(di, sep = '\\n')\n",
    "            dit.update(di) \n",
    "            di = {}\n",
    "\n",
    "    #     print (\"count\", len(dit),dit, '\\n')\n",
    "\n",
    "    total = 0\n",
    "    for key,value in dit.items():\n",
    "        total = total + dit[key]\n",
    "    print (\"STUART \",total)\n"
   ]
  },
  {
   "cell_type": "code",
   "execution_count": 217,
   "metadata": {
    "collapsed": false
   },
   "outputs": [],
   "source": [
    "def kev(s):\n",
    "    dit = {}\n",
    "    di = {}\n",
    "    gi = {}\n",
    "    r = 0\n",
    "    vow = ['A','E','I','O','U']\n",
    "    for i in range(0,len(s)):\n",
    "        if s[i] in vow:\n",
    "            r = i+1\n",
    "            break\n",
    "    for i in range(0,len(s)):\n",
    "        if s[i] in vow:\n",
    "            if s[i] in dit:\n",
    "                dit[s[i]] += 1\n",
    "            else:\n",
    "                dit[s[i]] = 1\n",
    "    for i in range(r,len(s)):\n",
    "        if(i!=r):\n",
    "            for key,value in dit.items():\n",
    "                if key in gi:\n",
    "                    n = key + s[i]\n",
    "                    sub_len = len(n)\n",
    "                    results = 0\n",
    "                    for q in range(len(s)):\n",
    "                        if s[q:q+sub_len] == n:\n",
    "                            results += 1\n",
    "                    for m in range(0,results):\n",
    "                        if n in di:\n",
    "                            di[n] += 1\n",
    "                        else:\n",
    "                            di[n] = 1\n",
    "            gi = di\n",
    "            print(di, sep = '\\n')\n",
    "            dit.update(di) \n",
    "            di = {}\n",
    "        else:\n",
    "            for key,value in dit.items():\n",
    "                n = key + s[i]\n",
    "                sub_len = len(n)\n",
    "                results = 0\n",
    "                for q in range(len(s)):\n",
    "                    if s[q:q+sub_len] == n:\n",
    "                        results += 1\n",
    "                for m in range(0,results):\n",
    "                    if n in di:\n",
    "                        di[n] += 1\n",
    "                    else:\n",
    "                        di[n] = 1\n",
    "            gi = di\n",
    "            print(di, sep = '\\n')\n",
    "            dit.update(di) \n",
    "            di = {}\n",
    "\n",
    "    #     print (\"count\", len(dit),dit, '\\n')\n",
    "\n",
    "    ktotal = 0\n",
    "    for key,value in dit.items():\n",
    "        ktotal = ktotal + dit[key]\n",
    "    print(ktotal)\n",
    "    if(total<ktotal):\n",
    "        print(\"KEVIN \",ktotal)\n",
    "    else:\n",
    "        print(\"STUART \",total)"
   ]
  },
  {
   "cell_type": "code",
   "execution_count": 222,
   "metadata": {
    "collapsed": false
   },
   "outputs": [
    {
     "name": "stdout",
     "output_type": "stream",
     "text": [
      "1 9 {'L': 1, 'R': 2, 'B': 2, 'Y': 1}\n",
      "{'BL': 1}\n",
      "{'BLU': 1}\n",
      "{'BLUE': 1}\n",
      "{'BLUEB': 1}\n",
      "{'BLUEBE': 1}\n",
      "{'BLUEBER': 1}\n",
      "{'BLUEBERR': 1}\n",
      "{'BLUEBERRY': 1}\n",
      "STUART  14\n"
     ]
    }
   ],
   "source": [
    "inp = \"BLUEBERRY\"\n",
    "stu(inp)"
   ]
  },
  {
   "cell_type": "code",
   "execution_count": 1,
   "metadata": {
    "collapsed": false
   },
   "outputs": [],
   "source": [
    "kev(inp)"
   ]
  },
  {
   "cell_type": "code",
   "execution_count": 4,
   "metadata": {
    "collapsed": false
   },
   "outputs": [
    {
     "name": "stdout",
     "output_type": "stream",
     "text": [
      "l;kafjsdfLEJC>MNCOLE.LKJdk\n",
      "L;KAFJSDFlejc>mncole.lkjDK\n"
     ]
    }
   ],
   "source": [
    "s = input()\n",
    "s= s.swapcase()\n",
    "print(s)"
   ]
  },
  {
   "cell_type": "code",
   "execution_count": null,
   "metadata": {
    "collapsed": true
   },
   "outputs": [],
   "source": []
  }
 ],
 "metadata": {
  "kernelspec": {
   "display_name": "Python 3",
   "language": "python",
   "name": "python3"
  },
  "language_info": {
   "codemirror_mode": {
    "name": "ipython",
    "version": 3
   },
   "file_extension": ".py",
   "mimetype": "text/x-python",
   "name": "python",
   "nbconvert_exporter": "python",
   "pygments_lexer": "ipython3",
   "version": "3.5.2"
  }
 },
 "nbformat": 4,
 "nbformat_minor": 0
}
