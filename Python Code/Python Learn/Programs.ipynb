{
 "cells": [
  {
   "cell_type": "code",
   "execution_count": 7,
   "metadata": {
    "collapsed": false
   },
   "outputs": [
    {
     "name": "stdout",
     "output_type": "stream",
     "text": [
      "[ 4  7 10 13 16 19 22 25 28]\n",
      "[False, True, False, True, False, True, False, False, False]\n"
     ]
    }
   ],
   "source": [
    "# Check prime numbers from the list of numbers\n",
    "import numpy as np\n",
    "import math\n",
    "def get_primes(input_list):\n",
    "    result_list = list()\n",
    "    for element in input_list:\n",
    "        if is_prime(element):\n",
    "            result_list.append()\n",
    "\n",
    "    return result_list\n",
    "\n",
    "# or better yet...\n",
    "\n",
    "def get_primes(input_list):\n",
    "    return (element for element in input_list if is_prime(element))\n",
    "\n",
    "# not germane to the example, but here's a possible implementation of\n",
    "# is_prime...\n",
    "\n",
    "def is_prime(number):\n",
    "    if number > 1:\n",
    "        if number == 2:\n",
    "            return True\n",
    "        if number % 2 == 0:\n",
    "            return False\n",
    "        for current in range(3, int(math.sqrt(number) + 1), 2):\n",
    "            if number % current == 0: \n",
    "                return False\n",
    "        return True\n",
    "    return False\n",
    "\n",
    "Y = np.arange(4,30,3)\n",
    "print Y\n",
    "#Z = is_prime(Y)\n",
    "Z = map(lambda x : is_prime(x),Y)\n",
    "print Z"
   ]
  }
 ],
 "metadata": {
  "kernelspec": {
   "display_name": "Python 2",
   "language": "python",
   "name": "python2"
  },
  "language_info": {
   "codemirror_mode": {
    "name": "ipython",
    "version": 2
   },
   "file_extension": ".py",
   "mimetype": "text/x-python",
   "name": "python",
   "nbconvert_exporter": "python",
   "pygments_lexer": "ipython2",
   "version": "2.7.11"
  }
 },
 "nbformat": 4,
 "nbformat_minor": 0
}
