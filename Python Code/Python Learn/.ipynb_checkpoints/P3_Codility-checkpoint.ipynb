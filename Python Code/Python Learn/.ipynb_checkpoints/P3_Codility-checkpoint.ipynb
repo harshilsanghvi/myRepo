{
 "cells": [
  {
   "cell_type": "code",
   "execution_count": 7,
   "metadata": {
    "collapsed": false
   },
   "outputs": [
    {
     "data": {
      "text/plain": [
       "[2, 3, 4, 5]"
      ]
     },
     "execution_count": 7,
     "metadata": {},
     "output_type": "execute_result"
    }
   ],
   "source": [
    "A = [1,2,3,4,5]\n",
    "len(A)\n",
    "A[:-4+1]\n",
    "A[1:]"
   ]
  },
  {
   "cell_type": "code",
   "execution_count": 37,
   "metadata": {
    "collapsed": false
   },
   "outputs": [
    {
     "name": "stdout",
     "output_type": "stream",
     "text": [
      "1 60\n",
      "3 58\n",
      "6 55\n",
      "7 54\n",
      "9 52\n",
      "10 51\n",
      "13 48\n",
      "25 36\n",
      "59 2\n"
     ]
    }
   ],
   "source": [
    "\n",
    "def solution(A):\n",
    "    a = []\n",
    "    b = len(A)\n",
    "    for i in range(0,b-1):\n",
    "        c = b-1-i\n",
    "        print(sum(A[:-c]), sum(A[i+1:]))\n",
    "        a.append(abs(sum(A[:-c]) - sum(A[i+1:])))\n",
    "    return min(a)\n",
    "ans = solution([1,2,3,1,2,1,3,12,34,2])\n"
   ]
  },
  {
   "cell_type": "code",
   "execution_count": 17,
   "metadata": {
    "collapsed": false
   },
   "outputs": [
    {
     "name": "stdout",
     "output_type": "stream",
     "text": [
      "6\n",
      "0\n"
     ]
    }
   ],
   "source": [
    "\n",
    "def solution(X, A):\n",
    "    for i in range(0,len(A)):\n",
    "        if A[i] == X:\n",
    "            return i\n",
    "    return -1\n",
    "ans = solution(5,[1,3,1,4,2,3,5,4])\n",
    "print (ans)\n",
    "ans = solution(3,[3])\n",
    "print (ans)\n"
   ]
  },
  {
   "cell_type": "code",
   "execution_count": 49,
   "metadata": {
    "collapsed": false
   },
   "outputs": [
    {
     "name": "stdout",
     "output_type": "stream",
     "text": [
      "[]\n"
     ]
    }
   ],
   "source": [
    "print(list(range(1,1)))"
   ]
  },
  {
   "cell_type": "code",
   "execution_count": null,
   "metadata": {
    "collapsed": true
   },
   "outputs": [],
   "source": []
  }
 ],
 "metadata": {
  "kernelspec": {
   "display_name": "Python 3",
   "language": "python",
   "name": "python3"
  },
  "language_info": {
   "codemirror_mode": {
    "name": "ipython",
    "version": 3
   },
   "file_extension": ".py",
   "mimetype": "text/x-python",
   "name": "python",
   "nbconvert_exporter": "python",
   "pygments_lexer": "ipython3",
   "version": "3.5.2"
  }
 },
 "nbformat": 4,
 "nbformat_minor": 0
}
