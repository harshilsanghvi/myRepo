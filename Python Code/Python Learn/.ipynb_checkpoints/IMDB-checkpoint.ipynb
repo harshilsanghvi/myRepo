{
 "cells": [
  {
   "cell_type": "code",
   "execution_count": null,
   "metadata": {
    "collapsed": true
   },
   "outputs": [],
   "source": [
    "import re"
   ]
  },
  {
   "cell_type": "code",
   "execution_count": null,
   "metadata": {
    "collapsed": false
   },
   "outputs": [],
   "source": [
    "from urllib.request import urlopen as ureq\n",
    "from bs4 import BeautifulSoup as soup"
   ]
  },
  {
   "cell_type": "code",
   "execution_count": null,
   "metadata": {
    "collapsed": false
   },
   "outputs": [],
   "source": [
    "my_url = 'http://m.imdb.com/chart/top'\n",
    "uclient = ureq(my_url)"
   ]
  },
  {
   "cell_type": "code",
   "execution_count": null,
   "metadata": {
    "collapsed": true
   },
   "outputs": [],
   "source": [
    "page_html = uclient.read()\n",
    "uclient.close()\n",
    "page_soup = soup(page_html, \"html.parser\")"
   ]
  },
  {
   "cell_type": "code",
   "execution_count": null,
   "metadata": {
    "collapsed": false
   },
   "outputs": [],
   "source": [
    "# print(page_soup)\n",
    "containers = page_soup.findAll(\"span\",{\"class\":\"media-body media-vertical-align\"})\n",
    "print(containers)"
   ]
  },
  {
   "cell_type": "code",
   "execution_count": null,
   "metadata": {
    "collapsed": false
   },
   "outputs": [],
   "source": [
    "filename = \"Movies.csv\"\n",
    "f = open(filename,\"w\")\n",
    "headers = \"Name,Rating,Year\\n\"\n",
    "f.write(headers)"
   ]
  },
  {
   "cell_type": "code",
   "execution_count": null,
   "metadata": {
    "collapsed": false
   },
   "outputs": [],
   "source": [
    "for container in containers:\n",
    "    movie_list = container.h4.text\n",
    "    lists = re.sub('[().]','',movie_list)\n",
    "    lists = re.split('\\n',lists)\n",
    "#     lists = movie_list.split('.')\n",
    "    no = lists[1]\n",
    "    name = lists[2]\n",
    "    year = lists[3]\n",
    "    f.write(no+\",\"+name+\",\"+year+\"\\n\")\n",
    "#     print(no, name, year)\n",
    "f.close()"
   ]
  }
 ],
 "metadata": {
  "kernelspec": {
   "display_name": "Python 3",
   "language": "python",
   "name": "python3"
  },
  "language_info": {
   "codemirror_mode": {
    "name": "ipython",
    "version": 3
   },
   "file_extension": ".py",
   "mimetype": "text/x-python",
   "name": "python",
   "nbconvert_exporter": "python",
   "pygments_lexer": "ipython3",
   "version": "3.5.2"
  }
 },
 "nbformat": 4,
 "nbformat_minor": 2
}
