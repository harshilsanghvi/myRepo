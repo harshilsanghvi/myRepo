{
 "cells": [
  {
   "cell_type": "code",
   "execution_count": 13,
   "metadata": {
    "collapsed": true
   },
   "outputs": [],
   "source": [
    "import re"
   ]
  },
  {
   "cell_type": "code",
   "execution_count": 21,
   "metadata": {
    "collapsed": false
   },
   "outputs": [],
   "source": [
    "# from urllib.request import urlopen as ureq\n",
    "import requests\n",
    "from bs4 import BeautifulSoup as soup"
   ]
  },
  {
   "cell_type": "code",
   "execution_count": 47,
   "metadata": {
    "collapsed": false
   },
   "outputs": [],
   "source": [
    "def gensearchstring(searchstring):# https://www.google.com/search?q=tom+hanks+movies&oq=tom+hanks+movies\n",
    "    searchstring = searchstring.split(' ')\n",
    "    my_url1 = 'https://www.google.com/search?q='\n",
    "    my_url2 = '&oq='\n",
    "    my_url3 = ''\n",
    "    for i in searchstring:\n",
    "        my_url3 = my_url3+i+'+'\n",
    "    my_url = my_url1+my_url3[:-1] + my_url2+my_url3[:-1]\n",
    "    return my_url\n",
    "\n",
    "def genpagesoup(my_url):\n",
    "    headers = {'User-Agent':'Mozilla/5.0'}\n",
    "    page = requests.get(my_url)\n",
    "    page_soup = soup(page.text, \"html.parser\")\n",
    "    return page_soup"
   ]
  },
  {
   "cell_type": "code",
   "execution_count": 48,
   "metadata": {
    "collapsed": false,
    "scrolled": true
   },
   "outputs": [
    {
     "name": "stdout",
     "output_type": "stream",
     "text": [
      "https://www.google.com/search?q=christopher+nolan+movies&oq=christopher+nolan+movies\n"
     ]
    }
   ],
   "source": [
    "my_url = gensearchstring('christopher nolan movies')\n",
    "print(my_url)"
   ]
  },
  {
   "cell_type": "code",
   "execution_count": 50,
   "metadata": {
    "collapsed": false
   },
   "outputs": [],
   "source": [
    "page_soup = genpagesoup(my_url)\n",
    "# print(page_soup)"
   ]
  },
  {
   "cell_type": "code",
   "execution_count": 56,
   "metadata": {
    "collapsed": false
   },
   "outputs": [
    {
     "name": "stdout",
     "output_type": "stream",
     "text": [
      "[]\n"
     ]
    }
   ],
   "source": [
    "# print(page_soup)\n",
    "containers = page_soup.findAll(\"div\", {\"class\":\"kltat\"})\n",
    "print(containers)"
   ]
  },
  {
   "cell_type": "code",
   "execution_count": null,
   "metadata": {
    "collapsed": false
   },
   "outputs": [],
   "source": [
    "filename = \"Movies.csv\"\n",
    "f = open(filename,\"w\")\n",
    "headers = \"Name,Rating,Year\\n\"\n",
    "f.write(headers)"
   ]
  },
  {
   "cell_type": "code",
   "execution_count": null,
   "metadata": {
    "collapsed": false
   },
   "outputs": [],
   "source": [
    "for container in containers:\n",
    "    movie_list = container.h4.text\n",
    "    lists = re.sub('[().]','',movie_list)\n",
    "    lists = re.split('\\n',lists)\n",
    "#     lists = movie_list.split('.')\n",
    "    no = lists[1]\n",
    "    name = lists[2]\n",
    "    year = lists[3]\n",
    "    f.write(no+\",\"+name+\",\"+year+\"\\n\")\n",
    "#     print(no, name, year)\n",
    "f.close()"
   ]
  }
 ],
 "metadata": {
  "kernelspec": {
   "display_name": "Python 3",
   "language": "python",
   "name": "python3"
  },
  "language_info": {
   "codemirror_mode": {
    "name": "ipython",
    "version": 3
   },
   "file_extension": ".py",
   "mimetype": "text/x-python",
   "name": "python",
   "nbconvert_exporter": "python",
   "pygments_lexer": "ipython3",
   "version": "3.5.2"
  }
 },
 "nbformat": 4,
 "nbformat_minor": 2
}
