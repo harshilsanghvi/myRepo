{
 "cells": [
  {
   "cell_type": "code",
   "execution_count": null,
   "metadata": {
    "collapsed": false
   },
   "outputs": [],
   "source": [
    "# Numpy \n",
    "#  -------------YIELD--------------\n",
    "# Find Prime Number\n",
    "from __future__ import print_function\n",
    "def isPrime(n):\n",
    "    if n == 1:\n",
    "        return False\n",
    "    for t in range(2,n):\n",
    "        if n%t == 0:\n",
    "            return False\n",
    "    return True\n",
    "\n",
    "def primes(n=1):\n",
    "    while(n<100):\n",
    "        if isPrime(n): yield n\n",
    "        n += 1\n",
    "for n in primes():\n",
    "    print (n, end = ' ')   "
   ]
  },
  {
   "cell_type": "code",
   "execution_count": null,
   "metadata": {
    "collapsed": false
   },
   "outputs": [],
   "source": [
    "# fibonacci\n",
    "def fibo(n):\n",
    "    i = 0\n",
    "    j = 1\n",
    "    for x in range(0,n):\n",
    "        print (i, end = ' ')\n",
    "        i, j = j,i + j\n",
    "fibo(10)"
   ]
  },
  {
   "cell_type": "code",
   "execution_count": null,
   "metadata": {
    "collapsed": false
   },
   "outputs": [],
   "source": [
    "def primes(n=1):\n",
    "    while n < 100:\n",
    "        if isPrime(n):print (n, end = ' ')\n",
    "        n += 1\n",
    "primes(1)            "
   ]
  },
  {
   "cell_type": "code",
   "execution_count": null,
   "metadata": {
    "collapsed": false
   },
   "outputs": [],
   "source": [
    "[x**3 for x in range(0,6)]"
   ]
  },
  {
   "cell_type": "code",
   "execution_count": null,
   "metadata": {
    "collapsed": false
   },
   "outputs": [],
   "source": [
    "' '.join([`x` for x in range(0,20)])"
   ]
  },
  {
   "cell_type": "code",
   "execution_count": null,
   "metadata": {
    "collapsed": false
   },
   "outputs": [],
   "source": [
    "''.join([str(x) for x in list(range(20))])"
   ]
  },
  {
   "cell_type": "code",
   "execution_count": null,
   "metadata": {
    "collapsed": false
   },
   "outputs": [],
   "source": [
    "import os\n",
    "print (os.path.expanduser('~'))"
   ]
  },
  {
   "cell_type": "code",
   "execution_count": null,
   "metadata": {
    "collapsed": false
   },
   "outputs": [],
   "source": [
    "try:\n",
    "    with open('filename','r') as f:\n",
    "        print (f.read())\n",
    "except IOError:\n",
    "    print (\"No such file exists\")"
   ]
  },
  {
   "cell_type": "code",
   "execution_count": null,
   "metadata": {
    "collapsed": false
   },
   "outputs": [],
   "source": [
    "import re\n",
    "import itertools\n",
    "print ([x for x in itertools.combinations('123',2)])\n",
    "print ([x for x in itertools.permutations('123',2)])\n",
    "re.sub('[aeu]', 'n', re.sub('[abc]', 'o', 'Space'))"
   ]
  },
  {
   "cell_type": "code",
   "execution_count": null,
   "metadata": {
    "collapsed": true
   },
   "outputs": [],
   "source": [
    "?itertools\n",
    "?print\n",
    "?sequence\n",
    "?linespace\n",
    "?matrix"
   ]
  },
  {
   "cell_type": "code",
   "execution_count": null,
   "metadata": {
    "collapsed": false
   },
   "outputs": [],
   "source": [
    "import numpy as np\n",
    "# dir(np)"
   ]
  },
  {
   "cell_type": "code",
   "execution_count": null,
   "metadata": {
    "collapsed": false
   },
   "outputs": [],
   "source": [
    "dup_list = [1,2,3,4,4,4,5,1,2,7,8,8,10]\n",
    "unique_list = list(set(dup_list))\n",
    "print (unique_list)"
   ]
  },
  {
   "cell_type": "code",
   "execution_count": null,
   "metadata": {
    "collapsed": false
   },
   "outputs": [],
   "source": [
    "integers = [ x for x in range(11)]\n",
    "filter(lambda x: x % 2 == 0, integers)\n"
   ]
  },
  {
   "cell_type": "code",
   "execution_count": null,
   "metadata": {
    "collapsed": false
   },
   "outputs": [],
   "source": [
    "map(lambda x: x**2, integers)\n"
   ]
  },
  {
   "cell_type": "code",
   "execution_count": null,
   "metadata": {
    "collapsed": false
   },
   "outputs": [],
   "source": [
    "reduce(lambda x, y: x + y, integers)"
   ]
  },
  {
   "cell_type": "code",
   "execution_count": null,
   "metadata": {
    "collapsed": false
   },
   "outputs": [],
   "source": [
    "def print_all(*args):\n",
    "    for x in enumerate(args):\n",
    "        print (x)"
   ]
  },
  {
   "cell_type": "code",
   "execution_count": null,
   "metadata": {
    "collapsed": false
   },
   "outputs": [],
   "source": [
    "print_all('A','b','b','a')"
   ]
  },
  {
   "cell_type": "code",
   "execution_count": null,
   "metadata": {
    "collapsed": false
   },
   "outputs": [],
   "source": [
    "a = [5,6,7,7,8]\n",
    "\n",
    "a.remove(7)\n",
    "print (a)\n",
    "a.pop()\n",
    "print (a)\n",
    "del a[1]\n",
    "print (a)"
   ]
  },
  {
   "cell_type": "code",
   "execution_count": null,
   "metadata": {
    "collapsed": false
   },
   "outputs": [],
   "source": [
    "s = ['Black', 'holes', 'are', 'where', 'God', 'divided', 'by', 'zero']\n",
    "print ('\\n'.join(s))"
   ]
  },
  {
   "cell_type": "code",
   "execution_count": null,
   "metadata": {
    "collapsed": false
   },
   "outputs": [],
   "source": [
    "''.join([str(x) for x in range(0,10)])"
   ]
  },
  {
   "cell_type": "code",
   "execution_count": null,
   "metadata": {
    "collapsed": false
   },
   "outputs": [],
   "source": [
    "import numpy as np\n",
    "m = np.matrix([[1,5,3],[5,2,8],[4,7,2]])\n",
    "n = np.matrix([[3,3,5],[7,2,4],[6,2,3]])\n",
    "o = np.matrix([[2,6,8],[6,8,3],[9,9,3]])\n",
    "v = m * 4 \n",
    "b = m - o\n",
    "print (m)\n",
    "# print (n)\n",
    "print (n)\n",
    "print (b)"
   ]
  },
  {
   "cell_type": "code",
   "execution_count": null,
   "metadata": {
    "collapsed": false
   },
   "outputs": [],
   "source": [
    "f = m * n\n",
    "print (f)\n",
    "c = np.multiply(m,n)\n",
    "print (c)"
   ]
  },
  {
   "cell_type": "code",
   "execution_count": null,
   "metadata": {
    "collapsed": false
   },
   "outputs": [],
   "source": [
    "#  Question 2\n",
    "class Car():\n",
    "    def __init__(self):\n",
    "        self.brand = \"\"\n",
    "        self.maxSpeed = 0\n",
    "        \n",
    "    def setBrand(self, brands):\n",
    "        self.brand = brands\n",
    "    def setmaxSpeed(self, speed):\n",
    "        self.maxSpeed = speed\n",
    "    def printData(self):\n",
    "        print (\"Brand - \",self.brand,\"; Max Speed - \",self.maxSpeed)\n",
    "        \n",
    "a = Car()\n",
    "a.setBrand(\"Audi\")\n",
    "a.setmaxSpeed(230)\n",
    "a.printData()\n",
    "\n",
    "b = Car()\n",
    "b.setBrand(\"Honda\")\n",
    "b.setmaxSpeed(180)\n",
    "b.printData()"
   ]
  },
  {
   "cell_type": "code",
   "execution_count": 11,
   "metadata": {
    "collapsed": false
   },
   "outputs": [
    {
     "name": "stdout",
     "output_type": "stream",
     "text": [
      "/home/harshil\n"
     ]
    }
   ],
   "source": [
    "import os\n",
    "import pandas as pd\n",
    "print (os.path.expanduser('~'))\n",
    "data = pd.read_csv(\"/home/harshil/Downloads/InData.csv\")"
   ]
  },
  {
   "cell_type": "code",
   "execution_count": 12,
   "metadata": {
    "collapsed": false
   },
   "outputs": [
    {
     "data": {
      "text/html": [
       "<div>\n",
       "<table border=\"1\" class=\"dataframe\">\n",
       "  <thead>\n",
       "    <tr style=\"text-align: right;\">\n",
       "      <th></th>\n",
       "      <th>X AXIS</th>\n",
       "      <th>Y AXIS</th>\n",
       "      <th>Z AXIS</th>\n",
       "    </tr>\n",
       "  </thead>\n",
       "  <tbody>\n",
       "    <tr>\n",
       "      <th>0</th>\n",
       "      <td>-231</td>\n",
       "      <td>1393</td>\n",
       "      <td>259</td>\n",
       "    </tr>\n",
       "    <tr>\n",
       "      <th>1</th>\n",
       "      <td>-73</td>\n",
       "      <td>1102</td>\n",
       "      <td>241</td>\n",
       "    </tr>\n",
       "    <tr>\n",
       "      <th>2</th>\n",
       "      <td>-247</td>\n",
       "      <td>729</td>\n",
       "      <td>44</td>\n",
       "    </tr>\n",
       "    <tr>\n",
       "      <th>3</th>\n",
       "      <td>28</td>\n",
       "      <td>1340</td>\n",
       "      <td>-218</td>\n",
       "    </tr>\n",
       "  </tbody>\n",
       "</table>\n",
       "</div>"
      ],
      "text/plain": [
       "   X AXIS  Y AXIS  Z AXIS\n",
       "0    -231    1393     259\n",
       "1     -73    1102     241\n",
       "2    -247     729      44\n",
       "3      28    1340    -218"
      ]
     },
     "execution_count": 12,
     "metadata": {},
     "output_type": "execute_result"
    }
   ],
   "source": [
    "data.head(4)"
   ]
  },
  {
   "cell_type": "code",
   "execution_count": 54,
   "metadata": {
    "collapsed": false
   },
   "outputs": [
    {
     "name": "stdout",
     "output_type": "stream",
     "text": [
      "[28, 54, 162, 120, 206, 275, 1393, 1102, 729, 1340, 1703, 708, 1115, 1637, 1052, 783, 942, 1141, 532, 812, 923, 259, 241, 44, 74, 172, 293, 496]\n"
     ]
    }
   ],
   "source": [
    "data.head(30)\n",
    "dictx = {}\n",
    "dicty = {}\n",
    "i = 0 \n",
    "for x in data:\n",
    "    dictx = {i: data[\"X AXIS\"]}\n",
    "    dicty = {i: data[\"Y AXIS\"]}\n",
    "    i =+ 1\n",
    "# print dictx, dicty\n",
    "# x for x in\n",
    "\n",
    "pos = [x for x in data[\"X AXIS\"] if x > 0]\n",
    "pos.extend([x for x in data[\"Y AXIS\"] if x > 0])\n",
    "pos.extend([x for x in data[\"Z AXIS\"] if x > 0])\n",
    "           \n",
    "print pos \n",
    "# pos = [x if x[\"X AXIS\"]  for x in data]"
   ]
  },
  {
   "cell_type": "code",
   "execution_count": 55,
   "metadata": {
    "collapsed": false
   },
   "outputs": [],
   "source": [
    "files = pd.DataFrame(pos)"
   ]
  },
  {
   "cell_type": "code",
   "execution_count": 56,
   "metadata": {
    "collapsed": false
   },
   "outputs": [
    {
     "name": "stdout",
     "output_type": "stream",
     "text": [
      "/home/harshil\n"
     ]
    }
   ],
   "source": [
    "import os\n",
    "print (os.path.expanduser('~'))"
   ]
  },
  {
   "cell_type": "code",
   "execution_count": 61,
   "metadata": {
    "collapsed": false
   },
   "outputs": [],
   "source": [
    "try:\n",
    "    getdata = pd.read_csv('/home/harshil/Downloads/OutDataput.csv')\n",
    "    os.remove('/home/harshil/Downloads/OutData.csv')\n",
    "except:\n",
    "    files.to_csv('/home/harshil/Downloads/OutData.csv')\n",
    "# import pandas as pd\n",
    "# ?pd.DataFrame.to_csv"
   ]
  },
  {
   "cell_type": "code",
   "execution_count": 127,
   "metadata": {
    "collapsed": false
   },
   "outputs": [],
   "source": [
    "import HTMLParser\n",
    "from urllib import urlopen\n",
    "import urlparse\n",
    "import sys"
   ]
  },
  {
   "cell_type": "code",
   "execution_count": 128,
   "metadata": {
    "collapsed": false
   },
   "outputs": [
    {
     "name": "stdout",
     "output_type": "stream",
     "text": [
      "Hello\n"
     ]
    },
    {
     "ename": "TypeError",
     "evalue": "Error when calling the metaclass bases\n    module.__init__() takes at most 2 arguments (3 given)",
     "output_type": "error",
     "traceback": [
      "\u001b[1;31m---------------------------------------------------------------------------\u001b[0m",
      "\u001b[1;31mTypeError\u001b[0m                                 Traceback (most recent call last)",
      "\u001b[1;32m<ipython-input-128-1ef404be943b>\u001b[0m in \u001b[0;36m<module>\u001b[1;34m()\u001b[0m\n\u001b[1;32m----> 1\u001b[1;33m \u001b[1;32mclass\u001b[0m \u001b[0mLinkParser\u001b[0m\u001b[1;33m(\u001b[0m\u001b[0mHTMLParser\u001b[0m\u001b[1;33m)\u001b[0m\u001b[1;33m:\u001b[0m\u001b[1;33m\u001b[0m\u001b[0m\n\u001b[0m\u001b[0;32m      2\u001b[0m     \u001b[1;32mprint\u001b[0m \u001b[1;34m\"Hello\"\u001b[0m\u001b[1;33m\u001b[0m\u001b[0m\n\u001b[0;32m      3\u001b[0m     \u001b[1;32mdef\u001b[0m \u001b[0mhandle_starttag\u001b[0m\u001b[1;33m(\u001b[0m\u001b[0mself\u001b[0m\u001b[1;33m,\u001b[0m\u001b[0mtag\u001b[0m\u001b[1;33m,\u001b[0m \u001b[0mattrs\u001b[0m\u001b[1;33m)\u001b[0m\u001b[1;33m:\u001b[0m\u001b[1;33m\u001b[0m\u001b[0m\n\u001b[0;32m      4\u001b[0m         \u001b[1;32mif\u001b[0m \u001b[0mtag\u001b[0m \u001b[1;33m==\u001b[0m \u001b[1;34m'a'\u001b[0m\u001b[1;33m:\u001b[0m\u001b[1;33m\u001b[0m\u001b[0m\n\u001b[0;32m      5\u001b[0m             \u001b[1;32mfor\u001b[0m \u001b[1;33m(\u001b[0m\u001b[0mkey\u001b[0m\u001b[1;33m,\u001b[0m \u001b[0mvalue\u001b[0m\u001b[1;33m)\u001b[0m \u001b[1;32min\u001b[0m \u001b[0mattrs\u001b[0m\u001b[1;33m:\u001b[0m\u001b[1;33m\u001b[0m\u001b[0m\n",
      "\u001b[1;31mTypeError\u001b[0m: Error when calling the metaclass bases\n    module.__init__() takes at most 2 arguments (3 given)"
     ]
    }
   ],
   "source": [
    "class LinkParser(HTMLParser):\n",
    "    print \"Hello\"\n",
    "    def handle_starttag(self,tag, attrs):\n",
    "        if tag == 'a':\n",
    "            for (key, value) in attrs:\n",
    "                if key == 'href':\n",
    "                    newUrl = urlparse.urljoin(self.baseUrl, value)\n",
    "                    self.links = self.links + [newUrl]\n",
    "    def getLinks(self,url):\n",
    "        print \"Hi\"\n",
    "        self.links = []\n",
    "        self.baseUrl = url\n",
    "        print \"How\"\n",
    "        response = urlopen(url)\n",
    "        if response.getheader('Content-Type')=='text/html':\n",
    "            htmlBytes = response.read()\n",
    "            # Note that feed() handles Strings well, but not bytes\n",
    "            # (A change from Python 2.x to Python 3.x)\n",
    "            htmlString = htmlBytes.decode(\"utf-8\")\n",
    "            print \"are\"\n",
    "            self.feed(htmlString)\n",
    "            print \"you\"\n",
    "            return htmlString, self.links\n",
    "        else:\n",
    "            return \"\",[]"
   ]
  },
  {
   "cell_type": "code",
   "execution_count": 129,
   "metadata": {
    "collapsed": true
   },
   "outputs": [],
   "source": [
    "def spider(url, word, maxPages):  \n",
    "    pagesToVisit = [url]\n",
    "    numberVisited = 0\n",
    "    foundWord = False\n",
    "    # The main loop. Create a LinkParser and get all the links on the page.\n",
    "    # Also search the page for the word or string\n",
    "    # In our getLinks function we return the web page\n",
    "    # (this is useful for searching for the word)\n",
    "    # and we return a set of links from that web page\n",
    "    # (this is useful for where to go next)\n",
    "    while numberVisited < maxPages and pagesToVisit != [] and not foundWord:\n",
    "        numberVisited = numberVisited +1\n",
    "        # Start from the beginning of our collection of pages to visit:\n",
    "        url = pagesToVisit[0]\n",
    "        pagesToVisit = pagesToVisit[1:]\n",
    "        try:\n",
    "            print(numberVisited, \"Visiting:\", url)\n",
    "            print \"ssup\"\n",
    "            p = LinkParser()\n",
    "            \n",
    "            data, links = p.getLinks(url)\n",
    "            if data.find(word)>-1:\n",
    "                foundWord = True\n",
    "                # Add the pages that we visited to the end of our collection\n",
    "                # of pages to visit:\n",
    "                pagesToVisit = pagesToVisit + links\n",
    "                print(\" **Success!**\")\n",
    "        except:\n",
    "            print(\" **Failed!**\", sys.exc_info()[0])\n",
    "    if foundWord:\n",
    "        print(\"The word\", word, \"was found at\", url)\n",
    "    else:\n",
    "        print(\"Word never found\")"
   ]
  },
  {
   "cell_type": "code",
   "execution_count": 130,
   "metadata": {
    "collapsed": false
   },
   "outputs": [
    {
     "name": "stdout",
     "output_type": "stream",
     "text": [
      "(1, 'Visiting:', 'http://www.dreamhost.com')\n",
      "ssup\n",
      "(' **Failed!**', <type 'exceptions.TypeError'>)\n",
      "Word never found\n"
     ]
    }
   ],
   "source": [
    "spider(\"http://www.dreamhost.com\",\"secure\", 200)"
   ]
  },
  {
   "cell_type": "code",
   "execution_count": null,
   "metadata": {
    "collapsed": true
   },
   "outputs": [],
   "source": []
  },
  {
   "cell_type": "code",
   "execution_count": null,
   "metadata": {
    "collapsed": true
   },
   "outputs": [],
   "source": []
  },
  {
   "cell_type": "code",
   "execution_count": null,
   "metadata": {
    "collapsed": true
   },
   "outputs": [],
   "source": []
  },
  {
   "cell_type": "code",
   "execution_count": null,
   "metadata": {
    "collapsed": true
   },
   "outputs": [],
   "source": []
  },
  {
   "cell_type": "code",
   "execution_count": null,
   "metadata": {
    "collapsed": true
   },
   "outputs": [],
   "source": []
  },
  {
   "cell_type": "code",
   "execution_count": null,
   "metadata": {
    "collapsed": true
   },
   "outputs": [],
   "source": []
  }
 ],
 "metadata": {
  "kernelspec": {
   "display_name": "Python 2",
   "language": "python",
   "name": "python2"
  },
  "language_info": {
   "codemirror_mode": {
    "name": "ipython",
    "version": 2
   },
   "file_extension": ".py",
   "mimetype": "text/x-python",
   "name": "python",
   "nbconvert_exporter": "python",
   "pygments_lexer": "ipython2",
   "version": "2.7.11"
  }
 },
 "nbformat": 4,
 "nbformat_minor": 0
}
