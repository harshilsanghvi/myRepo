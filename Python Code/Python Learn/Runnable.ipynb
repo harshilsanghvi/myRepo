{
 "cells": [
  {
   "cell_type": "code",
   "execution_count": null,
   "metadata": {
    "collapsed": false
   },
   "outputs": [],
   "source": [
    "import os, sys, string, random\n",
    "from os import listdir\n",
    "def programs(*args):\n",
    "    alpha = string.ascii_lowercase # get lowercase alphabets\n",
    "    try:\n",
    "        paths = args[1]\n",
    "    except IndexError:\n",
    "        paths = \"D:/Setup/\"\n",
    "    for filename in listdir(paths):\n",
    "        for i in range(0,len(alpha)):\n",
    "            if filename.startswith(alpha[i]) and filename.endswith('.txt'):\n",
    "                g = random.randint(0,25)\n",
    "                newfilename = alpha[g]+filename[1:]\n",
    "                print(filename ,'> file changed to >',newfilename)\n",
    "                os.rename(paths+filename,paths+newfilename)\n",
    "programs(sys.argv[1])"
   ]
  },
  {
   "cell_type": "code",
   "execution_count": null,
   "metadata": {
    "collapsed": true
   },
   "outputs": [],
   "source": []
  }
 ],
 "metadata": {
  "kernelspec": {
   "display_name": "Python 3",
   "language": "python",
   "name": "python3"
  },
  "language_info": {
   "codemirror_mode": {
    "name": "ipython",
    "version": 3
   },
   "file_extension": ".py",
   "mimetype": "text/x-python",
   "name": "python",
   "nbconvert_exporter": "python",
   "pygments_lexer": "ipython3",
   "version": "3.6.0"
  }
 },
 "nbformat": 4,
 "nbformat_minor": 2
}
