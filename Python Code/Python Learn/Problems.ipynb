{
 "cells": [
  {
   "cell_type": "raw",
   "metadata": {
    "collapsed": false
   },
   "source": [
    "1. Generators\n",
    "2. Lambda, Map, Reduce\n",
    "3. Regex and Parsing\n",
    "4. Programs"
   ]
  },
  {
   "cell_type": "code",
   "execution_count": null,
   "metadata": {
    "collapsed": false,
    "scrolled": false
   },
   "outputs": [],
   "source": [
    "import re \n",
    "m = re.search(r'([a-zA-Z0-9])\\w+', input().strip())\n",
    "print(m.group(1))"
   ]
  },
  {
   "cell_type": "code",
   "execution_count": null,
   "metadata": {
    "collapsed": false
   },
   "outputs": [],
   "source": [
    "# Search for a pattern in the string\n",
    "import re\n",
    "st = 'how are ! how are you doing, This is the series: 1, 123,34.23, 338*'\n",
    "match = re.search(r'H\\w+', st, re.I)\n",
    "print(match.group())"
   ]
  },
  {
   "cell_type": "code",
   "execution_count": null,
   "metadata": {
    "collapsed": false
   },
   "outputs": [],
   "source": [
    "# Search for all occurances of the word in the string. \n",
    "st = 'Hello, how are ! what are you doing, This is the series: 1, 123,34.23, 338*'\n",
    "match = re.findall(r'(?<![a-z0-9])h\\w+', st, re.I)\n",
    "print(match)\n"
   ]
  },
  {
   "cell_type": "code",
   "execution_count": null,
   "metadata": {
    "collapsed": false
   },
   "outputs": [],
   "source": [
    "# Search for the word starting with a specific letter and should be preceded by a space in the string\n",
    "st = ' Hello, how are ! what are you doing, This is the series: 1, 123,34.23, 338*'\n",
    "match = re.findall(r'(?<= )h\\w+', st, re.I)\n",
    "print(match)\n"
   ]
  },
  {
   "cell_type": "code",
   "execution_count": null,
   "metadata": {
    "collapsed": false
   },
   "outputs": [],
   "source": [
    "# Search for the word starting with a specific letter and should be preceded by a space in the string\n",
    "st = ' Hello, how are ! what are you doing, This is the series: 1, 123,34.23, 338*'\n",
    "match = re.findall(r'(?:^|\\b)([0-9]+)(?:\\b)', st, re.I)\n",
    "g = '\\n'\n",
    "print(\"\\n\".join(match))\n",
    "# [print(x) for x in match]"
   ]
  },
  {
   "cell_type": "code",
   "execution_count": null,
   "metadata": {
    "collapsed": false
   },
   "outputs": [],
   "source": [
    "# Replace string \n",
    "st = 'Hello,How are ! what are you doing, This is the series: 1, 123,34.23, 338*'\n",
    "print(st.replace(\"Hello\", \"watsaup\"))\n",
    "#replaces words starting with H preceded by space\n",
    "print(re.sub(r'(?: )[H]', \" h\", st, re.I))\n",
    "\n",
    "#replaces words starting with H preceded by space\n",
    "st = 'Hello,How are ! what are you doing, This is the series: 1, 123,34.23, 338*. And thats How its done'\n",
    "print(re.sub(r'(?:\\b)[H]', \"h\", st))\n",
    "\n",
    "# Email Address\n",
    "st = 'Hello,How are ! what are you doing. This is my email address: harshil2808@23gmail.com'\n",
    "m = re.search(r'(?:\\b)([^\\s]*\\@[^\\s]*\\.[a-zA-Z]{2,4})(?:\\b)',st)\n",
    "print(m.group(0))"
   ]
  },
  {
   "cell_type": "code",
   "execution_count": null,
   "metadata": {
    "collapsed": false
   },
   "outputs": [],
   "source": [
    "testString = \"This is a string with an email@address.com embedded in it.\"\n",
    "matchObj = re.search(r\"(?:\\b)([^\\s]*\\@[^\\s]*\\.[a-zA-Z]{2,4})(?:\\b)\",testString)\n",
    "print (matchObj.group(1))"
   ]
  },
  {
   "cell_type": "code",
   "execution_count": null,
   "metadata": {
    "collapsed": false
   },
   "outputs": [],
   "source": [
    "# Print the domain name of the website\n",
    "testString = \"http://www.thehindu.com/features/education/issues/engineering-students-locked-into-microsoft-office/article4640546.ece\"\n",
    "matchObj = re.search(r\"(?://)([\\w.]*)\",testString)\n",
    "print (matchObj.group(1))\n"
   ]
  },
  {
   "cell_type": "code",
   "execution_count": null,
   "metadata": {
    "collapsed": false
   },
   "outputs": [],
   "source": [
    "import re\n",
    "# int n = int(input())\n",
    "# for _ in range(n):\n",
    "t = \"8894654789\"\n",
    "k = re.match(r'^[7|8|9][0-9]{1,10}',t)\n",
    "try:\n",
    "    if(k.group(0)):\n",
    "        print(\"TRUE\")\n",
    "except:\n",
    "    print(\"FALSE\")\n"
   ]
  },
  {
   "cell_type": "code",
   "execution_count": null,
   "metadata": {
    "collapsed": false
   },
   "outputs": [],
   "source": [
    "import re\n",
    "n = int(input())\n",
    "for _ in range(n):\n",
    "    if(re.match(r'[789]\\d{9}$',str(input()))):\n",
    "        print(\"YES\")\n",
    "    else:\n",
    "        print(\"NO\")"
   ]
  },
  {
   "cell_type": "code",
   "execution_count": null,
   "metadata": {
    "collapsed": false
   },
   "outputs": [],
   "source": [
    "import sys\n",
    "[print(e.strip('\\n')) for e in sys.stdin if re.search('<[a-z][a-z0-9_.-]+@[a-z]+\\.[a-z]{1,3}>', e, re.I)]"
   ]
  },
  {
   "cell_type": "code",
   "execution_count": null,
   "metadata": {
    "collapsed": false
   },
   "outputs": [],
   "source": [
    "import email.utils\n",
    "print (email.utils.parseaddr('DOSHI <DOSHI@hackerrank.com>'))\n",
    "print (email.utils.formataddr(('DOSHI', 'DOSHI@hackerrank.com')))\n",
    "\n",
    "# input - DOSHI <DOSHI@hackerrank.com>\n",
    "import re\n",
    "n = int(input())\n",
    "for _ in range(n):\n",
    "    x, y = input().split(' ')\n",
    "    m = re.match(r'<[A-Za-z](\\w|-|\\.|_)+@[A-Za-z]+\\.[A-Za-z]{1,3}>', y)\n",
    "    if m:\n",
    "        print(x,y)\n",
    "        \n",
    "R = r'<[a-zA-Z][\\d\\w\\.-]*@[a-zA-Z]+\\.[a-zA-Z]{1,3}>'\n",
    "for _ in range(int(input().strip())):\n",
    "    i = input()\n",
    "    a = re.search(R, i)\n",
    "    if a:\n",
    "        print(i)\n",
    "        \n",
    "t = '<lkajsdl1234fj@as.com>'\n",
    "m = re.search(r'<[\\w]*@[a-zA-Z]{1,3}\\.[\\D]{1,3}>', t)\n",
    "print(m.group(0))"
   ]
  },
  {
   "cell_type": "code",
   "execution_count": null,
   "metadata": {
    "collapsed": false
   },
   "outputs": [],
   "source": [
    "# to print the list without square brackets\n",
    "n = int(input())\n",
    "[', '.join(email.utils.parseaddr(input())) for _ in range(n)]"
   ]
  },
  {
   "cell_type": "code",
   "execution_count": null,
   "metadata": {
    "collapsed": false
   },
   "outputs": [],
   "source": [
    "n = int(input())\n",
    "\n",
    "for _ in range(n):\n",
    "    m = re.match(r'([4|5|6][0-9]{3})(-?)([\\d]{4})(-?)([\\d]{4})(-?)([\\d]{4})',input())\n",
    "    if(m):\n",
    "        k = re.match()\n",
    "        if()\n",
    "        print(m.group(0))"
   ]
  },
  {
   "cell_type": "code",
   "execution_count": null,
   "metadata": {
    "collapsed": false
   },
   "outputs": [],
   "source": [
    "def solution(A):\n",
    "    # write your code in Python 2.7\n",
    "    j = []\n",
    "    for i in range(0,len(A)):\n",
    "#         print (A[i], A[:i+1], A[i+1:], sum(A[i+1:]), sum(A[:i+1]))\n",
    "        # for j in range(0,len(A)):\n",
    "        if sum(A[:i]) == sum(A[i+1:]):\n",
    "            j.append(i)\n",
    "    if(len(j)==0):\n",
    "        return -1\n",
    "    else:\n",
    "        return j\n",
    "ans = solution([-1, 3, -4, 5, 1, -6, 2, 1])\n",
    "print(ans)"
   ]
  },
  {
   "cell_type": "code",
   "execution_count": null,
   "metadata": {
    "collapsed": false
   },
   "outputs": [],
   "source": [
    "import re\n",
    "max_gap = 0\n",
    "current_gap = 0\n",
    "a = str(bin(524)).split('b')\n",
    "# int(a[1])\n",
    "b = 528\n",
    "while b > 0 and b%2 == 0:\n",
    "    b //= 2\n",
    "while b > 0:\n",
    "    remainder = b%2\n",
    "    if remainder == 0:\n",
    "        current_gap += 1\n",
    "    else:\n",
    "        if current_gap != 0:\n",
    "            max_gap = max(current_gap, max_gap)\n",
    "            current_gap = 0\n",
    "    b //= 2\n",
    "print(max_gap)"
   ]
  },
  {
   "cell_type": "code",
   "execution_count": null,
   "metadata": {
    "collapsed": false
   },
   "outputs": [],
   "source": [
    "def solution(A, K):\n",
    "    # write your code in Python 2.7\n",
    "    B = [0] * len(A)\n",
    "    j = 0\n",
    "    for i in range(0,len(A)):\n",
    "        if K+i <len(A):\n",
    "            B[K+i] = A[i]# for j in range(0,len(A)):\n",
    "        else:\n",
    "            B[j] = A[i]\n",
    "            j+=1\n",
    "    return B\n",
    "    \n",
    "ans = solution([3, 8, 9, 7, 6], 3)\n",
    "print(ans)"
   ]
  },
  {
   "cell_type": "code",
   "execution_count": null,
   "metadata": {
    "collapsed": false
   },
   "outputs": [],
   "source": [
    "\n",
    "def solution(A):\n",
    "    B = set(A)\n",
    "    dic = {}\n",
    "    H = []\n",
    "    for i in B:\n",
    "        dic[A.count(i)] = i\n",
    "    return dic[min(dic)]\n",
    "\n",
    "    \n",
    "ans = solution([3, 8, 3, 8, 3,4,3])\n",
    "print(ans)"
   ]
  },
  {
   "cell_type": "code",
   "execution_count": null,
   "metadata": {
    "collapsed": false,
    "scrolled": true
   },
   "outputs": [],
   "source": [
    "def solution(X,Y,D):\n",
    "    if((Y - X)%D==0):\n",
    "        return (int((Y - X)/D))\n",
    "    else:\n",
    "        return (int((Y - X)/D)+1)\n",
    "ans = solution(10,70,30)\n",
    "print(ans)"
   ]
  },
  {
   "cell_type": "code",
   "execution_count": null,
   "metadata": {
    "collapsed": false
   },
   "outputs": [],
   "source": [
    "def solution(X):\n",
    "    b = list(range(min(X),max(X)+1))\n",
    "    v = sum(b)-sum(X)\n",
    "    return v\n",
    "ans = solution([2, 3, 1, 5])\n",
    "print(ans)"
   ]
  },
  {
   "cell_type": "code",
   "execution_count": null,
   "metadata": {
    "collapsed": false
   },
   "outputs": [],
   "source": [
    "import numpy\n",
    "def fib(num):\n",
    "    a, b = 0, 1\n",
    "    for i in range(0,num):\n",
    "        yield \"{}: {}\".format(i+1,a)\n",
    "        a, b = b, a+b\n",
    "for item in fib(10):\n",
    "    print(item)"
   ]
  },
  {
   "cell_type": "code",
   "execution_count": null,
   "metadata": {
    "collapsed": false
   },
   "outputs": [],
   "source": [
    "def solution(A):\n",
    "    A = sorted(A)\n",
    "    print(A)\n",
    "#     a = A[-1] * A[-2] * A[-3]\n",
    "#     b = A[0] * A[1] * A[-1]\n",
    "    print(A[-1] , A[-2] , A[-3], A[0] , A[1] , A[-1])\n",
    "    return max(A[-1] * A[-2] * A[-3], A[0] * A[1] * A[-1])\n",
    "    \n",
    "ans = solution([-30,3, 5, 12, 8,9,4,-2])\n",
    "print(ans)"
   ]
  },
  {
   "cell_type": "code",
   "execution_count": null,
   "metadata": {
    "collapsed": false
   },
   "outputs": [],
   "source": [
    "def solution(A):\n",
    "    j,counter = 0,0\n",
    "    lower, upper = [], []\n",
    "    for i in range(len(A)):\n",
    "        lower  += [i-A[i]]\n",
    "        upper  += [i+A[i]]\n",
    "    lower.sort()\n",
    "    upper.sort()\n",
    "    for i in range(len(A)):\n",
    "        while j < len(A) and upper[i] >= lower[j]:\n",
    "            counter += j-i\n",
    "            j += 1\n",
    "        if(counter > 10000000):\n",
    "            return -1\n",
    "    return counter\n",
    "    \n",
    "ans = solution([1,5,2,1,4,0])\n",
    "print(ans)"
   ]
  },
  {
   "cell_type": "code",
   "execution_count": null,
   "metadata": {
    "collapsed": false
   },
   "outputs": [],
   "source": [
    "def solution(A):\n",
    "    if len(A) % 2 != 0:\n",
    "        return 0\n",
    "    l = []\n",
    "    for i in A:\n",
    "        if i == \"}\":\n",
    "            if len(A)!=0 and l[len(l)-1] == \"{\":\n",
    "                l.pop(len(l)-1)\n",
    "        elif i == \"]\":\n",
    "            if len(A)!=0 and l[len(l)-1] == \"[\":\n",
    "                l.pop(len(l)-1)\n",
    "        elif i == \")\":\n",
    "            if len(A)!=0 and l[len(l)-1] == \"(\":\n",
    "                l.pop(len(l)-1)\n",
    "        else:\n",
    "            l += i\n",
    "    return 1 if len(l)==0 else 0\n",
    "\n",
    "ans = solution(\"{[()]}\")\n",
    "print(ans)"
   ]
  },
  {
   "cell_type": "code",
   "execution_count": null,
   "metadata": {
    "collapsed": false
   },
   "outputs": [],
   "source": [
    "def solution(S):\n",
    "    # write your code in Python 2.7\n",
    "    a = []\n",
    "    if len(S) % 2 != 0:\n",
    "        return 0\n",
    "    for i in S:\n",
    "        if i == \")\":\n",
    "            if len(S)!=0 and len(a)!= 0 and a[len(a)-1] == \"(\":\n",
    "                a.pop(len(a)-1)\n",
    "        else:\n",
    "            a += i\n",
    "    return 1 if len(a)==0 else 0\n",
    "\n",
    "ans = solution(\")(\")\n",
    "print(ans)           "
   ]
  },
  {
   "cell_type": "code",
   "execution_count": null,
   "metadata": {
    "collapsed": false,
    "scrolled": false
   },
   "outputs": [],
   "source": [
    "import math\n",
    "def solution(S):\n",
    "    # write your code in Python 2.7\n",
    "    if len(S) < 3:\n",
    "        return -1\n",
    "    h = list(set(S))\n",
    "    for i in h:\n",
    "        if S.count(i) > ((len(S)-1)/2)+1:\n",
    "            for j in range(0,len(S)):\n",
    "                if S[j] == i:\n",
    "                    return j\n",
    "    else:\n",
    "        return -1\n",
    "        \n",
    "ans = solution([3,4,2,3,-1,3,3])\n",
    "print(ans)       "
   ]
  },
  {
   "cell_type": "code",
   "execution_count": null,
   "metadata": {
    "collapsed": false
   },
   "outputs": [],
   "source": []
  },
  {
   "cell_type": "code",
   "execution_count": null,
   "metadata": {
    "collapsed": false,
    "scrolled": false
   },
   "outputs": [],
   "source": [
    "fib = lambda y: y if y < 2 else fib(y - 1) + fib(y - 2)\n",
    "print (list(map(lambda x: x**3, map(fib, range(int(input()))))))\n",
    "# cube = lambda x: pow(x,3)# complete the lambda function \n",
    "# def fibonacci(n):\n",
    "#      # return a list of fibonacci numbers\n",
    "#     lis = [0,1]\n",
    "#     for i in range(2,n):\n",
    "#         lis.append(lis[i-2] + lis[i-1])\n",
    "#     return(lis[0:n])\n",
    "# print(cube)"
   ]
  },
  {
   "cell_type": "code",
   "execution_count": null,
   "metadata": {
    "collapsed": false
   },
   "outputs": [],
   "source": [
    "lm = list(range(0,10,2))\n",
    "ls = list(map(lambda x : x*2,lm))\n",
    "print(ls)"
   ]
  },
  {
   "cell_type": "code",
   "execution_count": null,
   "metadata": {
    "collapsed": true
   },
   "outputs": [],
   "source": [
    "import re "
   ]
  },
  {
   "cell_type": "code",
   "execution_count": null,
   "metadata": {
    "collapsed": false
   },
   "outputs": [],
   "source": [
    "def ch(s):\n",
    "    m = re.match(r'[a-zA-Z0-9_-]*@[a-zA-Z]*.[a-zA-Z]{1,3}$', s)\n",
    "    print(m.group(0))\n",
    "ch(\"bri-an23@hackerrank.com\")"
   ]
  },
  {
   "cell_type": "code",
   "execution_count": null,
   "metadata": {
    "collapsed": false
   },
   "outputs": [],
   "source": [
    "# LAMBDA MAP FILTER\n",
    "fib = lambda y : y if (y<2) else fib(y-1) + fib(y-2)\n",
    "print(list(map(lambda x: x**2, map(fib,range(int(input()))))))"
   ]
  },
  {
   "cell_type": "code",
   "execution_count": null,
   "metadata": {
    "collapsed": false
   },
   "outputs": [],
   "source": [
    "h = lambda y : y if (y<2) else fib(y-1) + fib(y-2)\n",
    "print(list(map(lambda x : x **2 , map(fib, range(int(input()))))))"
   ]
  },
  {
   "cell_type": "code",
   "execution_count": null,
   "metadata": {
    "collapsed": false
   },
   "outputs": [],
   "source": [
    "# FIBONACCI \n",
    "\n",
    "# 1. Generaotors\n",
    "def fibo(n):\n",
    "    a, b = 0,1\n",
    "    h = [0]\n",
    "    for i in range(10):\n",
    "        if(i == 0):\n",
    "            yield a\n",
    "        else:\n",
    "            a, b = b, a + b\n",
    "            yield a\n",
    "            h += [a]\n",
    "g = fibo(8)\n",
    "for x in g:\n",
    "    print(x)\n",
    "\n",
    "# 2. Lambda map\n",
    "h = lambda y : y if (y<2) else fib(y-1) + fib(y-2)\n",
    "print(list(map(lambda x : x **2 , map(fib, range(int(input()))))))\n",
    "\n",
    "# 3. Simple for loop\n",
    "\n",
    "a, b = 0,1\n",
    "l = [0]\n",
    "for i in range(10):\n",
    "    if(i == 0):\n",
    "        continue\n",
    "    else:\n",
    "        a, b = b, a + b\n",
    "        l += [a]\n",
    "print(l)"
   ]
  },
  {
   "cell_type": "code",
   "execution_count": null,
   "metadata": {
    "collapsed": true
   },
   "outputs": [],
   "source": []
  },
  {
   "cell_type": "code",
   "execution_count": null,
   "metadata": {
    "collapsed": false
   },
   "outputs": [],
   "source": [
    "# import os\n",
    "# import sys\n",
    "# import operator\n",
    "# import json,urllib.request\n",
    "# class Movie(object):\n",
    "#     mcount=0\n",
    "#     def __init__(self,name,m_rating):\n",
    "#         self.name=name\n",
    "#         self.m_rating=m_rating\n",
    "#         Movie.mcount+=1\n",
    "#     def __repr__(self):\n",
    "#         return \"<name:%s, rating:%s\" % (self.name,self.m_rating)\n",
    "    \n",
    "#     if len(sys.argv)<2:\n",
    "#         print(\"Please provide path to the directory\")\n",
    "#         sys.exit(0)\n",
    "# movielist=os.listdir(sys.argv[1])\n",
    "# length=len(movielist)\n",
    "# mlist=[]\n",
    "# ini=\"http://theapache64.xyz:8080/movie_db/search?keyword=\"\n",
    "\n",
    "# for i in range(length):\n",
    "#     movie=str(movielist[i])\n",
    "#     b1=movie.find('(')\n",
    "#     b2=movie.find('[')\n",
    "#     if b1==-1 and b2==-1:\n",
    "#         ind=len(movielist[i])\n",
    "#     elif b1==-1:\n",
    "#         ind=b2\n",
    "#     elif b2==-1:\n",
    "#         ind=b1\n",
    "#     else:\n",
    "#         ind=min(b1,b2)\n",
    "#     movielist[i]=movie[:ind]\n",
    "#     with urllib.request.urlopen(ini+movielist[i].strip().replace(' ','+')) as url:\n",
    "#         data=json.loads(url.read().decode())\n",
    "#         if data.get('error_code')==0:\n",
    "#             mlist.append(Movie(movielist[i],data.get('data').get('rating')))\n",
    "#             print(movielist[i]+\"-------\\t\"+data.get('data').get('rating')+\"\\n\")\n",
    "#         else:\n",
    "#             mlist.append(Movie(movielist[i],\"-1\"))\n",
    "#             print(movielist[i]+\"-------\\tN/A\\n\")\n",
    "\n",
    "# cmp=operator.attrgetter(\"m_rating\")\n",
    "# sort_list=sorted(mlist,key=cmp,reverse=True)\n",
    "\n",
    "# f1=open('Movies.txt',\"w\")\n",
    "\n",
    "# for m in sort_list:\n",
    "#     f1.write(\"{:<80} {:<5}\\n\".format(m.name,m.m_rating))\n",
    "# f1.close()\n"
   ]
  },
  {
   "cell_type": "code",
   "execution_count": null,
   "metadata": {
    "collapsed": false
   },
   "outputs": [],
   "source": [
    "def check(S):\n",
    "    if len(S) == 10 and len(set(S)) == 10 and S.isalnum() and sum([1 for i in S if i.isupper()]) >= 2 and sum([1 for i in S if i.isdigit()]) >= 3:\n",
    "        return \"Valid\"\n",
    "    else:\n",
    "        return \"Invalid\"\n",
    "n = int(input())\n",
    "[check(input()) for i in range(n)]\n"
   ]
  },
  {
   "cell_type": "code",
   "execution_count": null,
   "metadata": {
    "collapsed": false
   },
   "outputs": [],
   "source": [
    "import re"
   ]
  },
  {
   "cell_type": "code",
   "execution_count": null,
   "metadata": {
    "collapsed": false
   },
   "outputs": [],
   "source": [
    "def check(S):\n",
    "    try:\n",
    "        assert re.search(r'[A-Z]{2}',S)\n",
    "        assert re.search(r'[0-9]{3}',S)\n",
    "        assert not re.search(r'.*(.).*\\1',S)\n",
    "        assert re.search(r'^\\w{10}$',S)\n",
    "    except:\n",
    "        print('Invalid')\n",
    "    else:\n",
    "        print('Valid')\n",
    "check(\"BVE215WDSM\")\n",
    "# [print(check(input())) for i in range(n)]"
   ]
  },
  {
   "cell_type": "code",
   "execution_count": null,
   "metadata": {
    "collapsed": false
   },
   "outputs": [],
   "source": [
    "for _ in range(int(input())):\n",
    "    u = ''.join(sorted(input()))\n",
    "    print(u)\n",
    "    try:\n",
    "        assert re.search(r'[A-Z]{2}', u)\n",
    "#         assert re.search(r'\\d\\d\\d', u)\n",
    "#         assert not re.search(r'[^a-zA-Z0-9]', u)\n",
    "        assert not re.search(r'(.)\\1', u)\n",
    "        assert len(u) == 10\n",
    "    except:\n",
    "        print('Invalid')\n",
    "    else:\n",
    "        print('Valid')"
   ]
  },
  {
   "cell_type": "code",
   "execution_count": null,
   "metadata": {
    "collapsed": true
   },
   "outputs": [],
   "source": [
    "import re\n",
    "for _ in range(int(input())):\n",
    "    s = input()\n",
    "    print('Valid' if all([re.search(r, s) for r in [r'^[A-Za-z0-9]{10}$',r'([A-Z].*){2}',r'([0-9].*){3}']]) and not re.search(r'.*(.).*\\1', s) else 'Invalid')"
   ]
  },
  {
   "cell_type": "code",
   "execution_count": null,
   "metadata": {
    "collapsed": false
   },
   "outputs": [],
   "source": [
    "n = int(input())\n",
    "for _ in range(n):\n",
    "    S = input()\n",
    "    try:\n",
    "        assert re.search(r'^[456]',S)\n",
    "        assert re.search(r'^(\\d{4}-){3}\\d{4}$',S) or re.search(r'\\d{16}$',S)\n",
    "        assert not re.search(r' _',S)\n",
    "        assert not re.search(r\"([\\d])\\1\\1\\1\", S.replace(\"-\", \"\"))\n",
    "    except:\n",
    "        print('Invalid')\n",
    "    else:\n",
    "        print('Valid')"
   ]
  },
  {
   "cell_type": "code",
   "execution_count": null,
   "metadata": {
    "collapsed": false
   },
   "outputs": [],
   "source": [
    "S = '42418567090654321'\n",
    "try:\n",
    "    assert re.search(r'^[456]',S) # should start wtih either 4,5 or 6\n",
    "    assert re.search(r'^(\\d{4}-){3}\\d{4}$',S) or re.search(r'\\d{16}$',S)\n",
    "    assert not re.search(r' _',S) # should not have space or underscore\n",
    "    assert not re.search(r'(\\d)\\1',S) # should not have same consecutive number\n",
    "    assert not re.search(r\"(\\d\\d)\\1\", S.replace(\"-\", \"\")) # should not have same consecutive pair\n",
    "except:\n",
    "    print('Invalid')\n",
    "else:\n",
    "    print('Valid')\n"
   ]
  },
  {
   "cell_type": "code",
   "execution_count": null,
   "metadata": {
    "collapsed": false
   },
   "outputs": [],
   "source": [
    "import re\n",
    "\n",
    "S = '42418567090654321'\n",
    "try:\n",
    "    assert re.search(r'^[1-9]\\d{9}$',S) # \n",
    "    assert not re.search(r'(\\d\\d)(?=.\\1)',S) # should not have space or underscore\n",
    "except:\n",
    "    print('Invalid')\n",
    "else:\n",
    "    print('Valid')\n",
    "# p_posi = r'^[1-9]\\d{9}$'\n",
    "# p_nega = r'(\\d\\d)(?=.\\1)'\n",
    "\n",
    "# s = input()\n",
    "# v1 = bool(re.search(p_posi, s))\n",
    "# v2 = bool(len(re.findall(p_nega, s)) <= 1)\n",
    "# print(v1)"
   ]
  },
  {
   "cell_type": "code",
   "execution_count": null,
   "metadata": {
    "collapsed": false
   },
   "outputs": [],
   "source": [
    "print(bool(re.match(\n",
    "    r'^'\n",
    "    r'(?!.*(.).\\1.*(.).\\2)'\n",
    "    r'(?!.*(.)(.)\\3\\4)'\n",
    "    r'[1-9]\\d{5}'\n",
    "    r'$', input()\n",
    ")))"
   ]
  },
  {
   "cell_type": "code",
   "execution_count": null,
   "metadata": {
    "collapsed": false
   },
   "outputs": [],
   "source": [
    "import re\n",
    "s=input()\n",
    "print (bool(re.match(r'^[1-9][\\d]{5}$',s) and len(re.findall(r'(\\d)(?=\\d\\1)',s))<2 ))"
   ]
  },
  {
   "cell_type": "code",
   "execution_count": null,
   "metadata": {
    "collapsed": true
   },
   "outputs": [],
   "source": []
  },
  {
   "cell_type": "code",
   "execution_count": null,
   "metadata": {
    "collapsed": true
   },
   "outputs": [],
   "source": []
  },
  {
   "cell_type": "code",
   "execution_count": null,
   "metadata": {
    "collapsed": true
   },
   "outputs": [],
   "source": []
  },
  {
   "cell_type": "code",
   "execution_count": null,
   "metadata": {
    "collapsed": true
   },
   "outputs": [],
   "source": []
  },
  {
   "cell_type": "code",
   "execution_count": null,
   "metadata": {
    "collapsed": true
   },
   "outputs": [],
   "source": []
  },
  {
   "cell_type": "code",
   "execution_count": null,
   "metadata": {
    "collapsed": true
   },
   "outputs": [],
   "source": []
  }
 ],
 "metadata": {
  "kernelspec": {
   "display_name": "Python 3",
   "language": "python",
   "name": "python3"
  },
  "language_info": {
   "codemirror_mode": {
    "name": "ipython",
    "version": 3
   },
   "file_extension": ".py",
   "mimetype": "text/x-python",
   "name": "python",
   "nbconvert_exporter": "python",
   "pygments_lexer": "ipython3",
   "version": "3.5.2"
  }
 },
 "nbformat": 4,
 "nbformat_minor": 2
}
