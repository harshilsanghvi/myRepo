{
 "cells": [
  {
   "cell_type": "code",
   "execution_count": 1,
   "metadata": {
    "collapsed": true
   },
   "outputs": [],
   "source": [
    "import pandas as pd\n",
    "import numpy as np\n",
    "import statsmodels as sm\n",
    "import sklearn as skl\n",
    "import sklearn.preprocessing as preprocessing\n",
    "import sklearn.linear_model as linear_model\n",
    "import sklearn.cross_validation as cross_validation\n",
    "import sklearn.metrics as metrics\n",
    "import sklearn.tree as tree\n",
    "import seaborn as sns\n",
    "import math as m \n",
    "import matplotlib.pylab as plt\n",
    "data = pd.read_csv(\"/home/harshil/BDAP/Python Code/adultdata.csv\", names = [\"Age\", \"Workclass\", \"fnlwgt\", \n",
    "        \"Education\", \"Education-Num\", \"Martial_Status\",\"Occupation\", \"Relationship\", \"Race\", \"Sex\",\n",
    "        \"Capital_Gain\", \"Capital_Loss\",\"Hour\", \"Country\", \"Target\"],\n",
    "        sep=r'\\s*,\\s*',engine='python',na_values=\"?\")\n",
    "\n"
   ]
  },
  {
   "cell_type": "code",
   "execution_count": 2,
   "metadata": {
    "collapsed": false
   },
   "outputs": [],
   "source": [
    "fig = plt.figure()\n",
    "ax1 = plt.subplot2grid((1,1),(0,0))\n",
    "# plt.plot(data['Age'].head(50),'-')\n",
    "plt.hist(data[\"Age\"], 50, facecolor='g')\n",
    "plt.show()\n"
   ]
  },
  {
   "cell_type": "code",
   "execution_count": 25,
   "metadata": {
    "collapsed": false
   },
   "outputs": [
    {
     "data": {
      "text/plain": [
       "0    39\n",
       "1    50\n",
       "Name: Age, dtype: int64"
      ]
     },
     "execution_count": 25,
     "metadata": {},
     "output_type": "execute_result"
    }
   ],
   "source": [
    "# --------SUMMARY--------------\n",
    "# data.dtypes\n",
    "# data.head(1)\n",
    "# data.tail(3)\n",
    "\n",
    "#---------COLUMNS---------------\n",
    "# data[\"Age\"].iloc[-4:]\n",
    "# data[\"Age\"].head()\n",
    "# data[\"Age\"].tolist()\n",
    "# print(np.array(data['Hours_per_week']))\n",
    "# data.Age.head(2)\n",
    "# df = data.set_index('Age') OR data.set_index('Age'),inplace = True)\n",
    "# data[[\"Age\",\"Education\"]]\n",
    "\n",
    "#----------ROW MANIPULATION-------------\n",
    "# rows = [data[\"Age\"].index(x) if x is None else \"Value\" for x in data[\"Age\"]]\n",
    "# [i for i, x in enumerate(rows) if x != \"Value\"]\n",
    "\n",
    "# ---------MISSING VALUES---------------\n",
    "# 1. Ignore missing values 2. Remove missing values 3. Fill with related values 4. Fill with static values\n",
    "# 2.\n",
    "# data[[\"Age\",\"Hour\"]].dropna()\n",
    "# data[[\"Age\",\"Hour\"]].dropna(how = \"all\",inplace=True)\n",
    "# 3. \n",
    "# data[[\"Age\"]].fillna(method=\"ffill\")\n",
    "# 4.\n",
    "# method = \"bfill\" OR value = -9999\n",
    "# data.isnull().values.sum() ----- To count no. of rows with null"
   ]
  },
  {
   "cell_type": "code",
   "execution_count": 3,
   "metadata": {
    "collapsed": false
   },
   "outputs": [],
   "source": [
    "fig = plt.figure(figsize=(20,15))\n",
    "cols = 5\n",
    "rows = m.ceil(float(data.shape[1]) / cols)\n",
    "for i, column in enumerate(data.columns):\n",
    "    ax = fig.add_subplot(rows, cols, i + 1)\n",
    "    ax.set_title(column)\n",
    "    if data.dtypes[column] == np.object:\n",
    "        data[column].value_counts().plot(kind=\"bar\", axes=ax)\n",
    "    else:\n",
    "        data[column].hist(axes=ax)\n",
    "        plt.xticks(rotation=\"vertical\")\n",
    "plt.subplots_adjust(hspace=0.7, wspace=0.2)\n",
    "plt.show()"
   ]
  },
  {
   "cell_type": "code",
   "execution_count": 29,
   "metadata": {
    "collapsed": false
   },
   "outputs": [
    {
     "data": {
      "text/plain": [
       "United-States    0.895857\n",
       "Mexico           0.019748\n",
       "Philippines      0.006081\n",
       "Germany          0.004207\n",
       "Canada           0.003716\n",
       "Name: Country, dtype: float64"
      ]
     },
     "execution_count": 29,
     "metadata": {},
     "output_type": "execute_result"
    }
   ],
   "source": [
    "(data[\"Country\"].value_counts() / data.shape[0]).head()"
   ]
  },
  {
   "cell_type": "code",
   "execution_count": 4,
   "metadata": {
    "collapsed": false
   },
   "outputs": [
    {
     "name": "stderr",
     "output_type": "stream",
     "text": [
      "/home/harshil/anaconda2/lib/python2.7/site-packages/numpy/lib/arraysetops.py:200: FutureWarning: numpy not_equal will not check object identity in the future. The comparison did not return the same result as suggested by the identity (`is`)) and will change.\n",
      "  flag = np.concatenate(([True], aux[1:] != aux[:-1]))\n"
     ]
    }
   ],
   "source": [
    "from sklearn import preprocessing\n",
    "# Encode the categorical features as numbers\n",
    "def number_encode_features(df):\n",
    "    result = df.copy()\n",
    "    encoders = {}\n",
    "#     df.apply(preprocessing.LabelEncoder().fit_transform)\n",
    "    for column in result.columns:\n",
    "        if result.dtypes[column] == np.object:\n",
    "            encoders[column] = preprocessing.LabelEncoder()\n",
    "            result[column] = encoders[column].fit_transform(result[column])\n",
    "    return result, encoders\n",
    "    \n",
    "\n",
    "# Calculate the correlation and plot it\n",
    "encoded_data, _ = number_encode_features(data)\n",
    "sns.heatmap(encoded_data.corr(), square=True)\n",
    "plt.show()\n",
    "# Label encoder function in scikit-learn package is used  "
   ]
  },
  {
   "cell_type": "raw",
   "metadata": {},
   "source": [
    "http://stackoverflow.com/questions/24458645/label-encoding-across-multiple-columns-in-scikit-learn\n",
    "\n",
    "--labelencoder - Encode labels with value between 0 and n_classes-1.\n",
    "LabelEncoder can be used to normalize labels.It can also be used to transform non-numerical labels (as long as they are hashable and comparable) to numerical labels.\n",
    "\n",
    "--why do we convert categorical class labels to integers for classification?\n",
    "Scikit learn only handles real numbers I believe. So you need to do something like one hot encoding where n numerical dimensions are used to represent membership in the categories. If you just pass in strings they'll get cast to floats in unpredictable ways."
   ]
  },
  {
   "cell_type": "code",
   "execution_count": 6,
   "metadata": {
    "collapsed": false
   },
   "outputs": [],
   "source": [
    "encoded_data, encoders = number_encode_features(data)\n",
    "fig = plt.figure(figsize=(20,15))\n",
    "cols = 5\n",
    "rows = m.ceil(float(encoded_data.shape[1]) / cols)\n",
    "for i, column in enumerate(encoded_data.columns):\n",
    "    ax = fig.add_subplot(rows, cols, i + 1)\n",
    "    ax.set_title(column)\n",
    "    encoded_data[column].hist(axes=ax)\n",
    "    plt.xticks(rotation=\"vertical\")\n",
    "plt.subplots_adjust(hspace=0.7, wspace=0.2)\n",
    "plt.show()\n"
   ]
  },
  {
   "cell_type": "code",
   "execution_count": 7,
   "metadata": {
    "collapsed": false
   },
   "outputs": [
    {
     "name": "stderr",
     "output_type": "stream",
     "text": [
      "/home/harshil/anaconda2/lib/python2.7/site-packages/ipykernel/__main__.py:1: FutureWarning: using '-' to provide set differences with Indexes is deprecated, use .difference()\n",
      "  if __name__ == '__main__':\n"
     ]
    }
   ],
   "source": [
    "X_train, X_test, y_train, y_test = cross_validation.train_test_split(encoded_data[encoded_data.columns - [\"Target\"]], encoded_data[\"Target\"], train_size=0.70)\n",
    "scaler = preprocessing.StandardScaler()\n",
    "X_train = pd.DataFrame(scaler.fit_transform(X_train.astype('float64')), columns=X_train.columns)\n",
    "X_test = scaler.transform(X_test.astype(\"float64\"))\n",
    "# ?X_train.astype"
   ]
  },
  {
   "cell_type": "code",
   "execution_count": 9,
   "metadata": {
    "collapsed": false
   },
   "outputs": [
    {
     "name": "stdout",
     "output_type": "stream",
     "text": [
      "F1 score: 0.559477\n"
     ]
    },
    {
     "name": "stderr",
     "output_type": "stream",
     "text": [
      "/home/harshil/anaconda2/lib/python2.7/site-packages/ipykernel/__main__.py:13: FutureWarning: sort is deprecated, use sort_values(inplace=True) for INPLACE sorting\n"
     ]
    }
   ],
   "source": [
    "cls = linear_model.LogisticRegression()\n",
    "\n",
    "cls.fit(X_train, y_train)\n",
    "y_pred = cls.predict(X_test)\n",
    "cm = metrics.confusion_matrix(y_test, y_pred)\n",
    "plt.figure(figsize=(12,12))\n",
    "plt.subplot(2,1,1)\n",
    "sns.heatmap(cm, annot=True, fmt=\"d\", xticklabels=encoders[\"Target\"].classes_, yticklabels=encoders[\"Target\"].classes_)\n",
    "plt.ylabel(\"Real value\")\n",
    "plt.xlabel(\"Predicted value\")\n",
    "print \"F1 score: %f\" % skl.metrics.f1_score(y_test, y_pred)\n",
    "coefs = pd.Series(cls.coef_[0], index=X_train.columns)\n",
    "coefs.sort()\n",
    "plt.subplot(2,1,2)\n",
    "coefs.plot(kind=\"bar\")\n",
    "plt.show()"
   ]
  },
  {
   "cell_type": "code",
   "execution_count": 12,
   "metadata": {
    "collapsed": false
   },
   "outputs": [],
   "source": [
    "binary_data = pd.get_dummies(data)\n",
    "# Let's fix the Target as it will be converted to dummy vars too\n",
    "binary_data[\"Target\"] = binary_data[\"Target_>50K\"]\n",
    "del binary_data[\"Target_<=50K\"]\n",
    "del binary_data[\"Target_>50K\"]\n",
    "plt.subplots(figsize=(20,20))\n",
    "sns.heatmap(binary_data.corr(), square=True)\n",
    "plt.show()"
   ]
  },
  {
   "cell_type": "code",
   "execution_count": 13,
   "metadata": {
    "collapsed": false
   },
   "outputs": [
    {
     "name": "stderr",
     "output_type": "stream",
     "text": [
      "/home/harshil/anaconda2/lib/python2.7/site-packages/ipykernel/__main__.py:1: FutureWarning: using '-' to provide set differences with Indexes is deprecated, use .difference()\n",
      "  if __name__ == '__main__':\n"
     ]
    }
   ],
   "source": [
    "X_train, X_test, y_train, y_test = cross_validation.train_test_split(binary_data[binary_data.columns - [\"Target\"]], binary_data[\"Target\"], train_size=0.70)\n",
    "scaler = preprocessing.StandardScaler()\n",
    "X_train = pd.DataFrame(scaler.fit_transform(X_train), columns=X_train.columns)\n",
    "X_test = scaler.transform(X_test)"
   ]
  },
  {
   "cell_type": "code",
   "execution_count": null,
   "metadata": {
    "collapsed": false
   },
   "outputs": [
    {
     "name": "stdout",
     "output_type": "stream",
     "text": [
      "F1 score: 0.663408\n"
     ]
    },
    {
     "name": "stderr",
     "output_type": "stream",
     "text": [
      "/home/harshil/anaconda2/lib/python2.7/site-packages/ipykernel/__main__.py:14: FutureWarning: sort is deprecated, use sort_values(inplace=True) for INPLACE sorting\n"
     ]
    }
   ],
   "source": [
    "cls = linear_model.LogisticRegression()\n",
    "\n",
    "cls.fit(X_train, y_train)\n",
    "y_pred = cls.predict(X_test)\n",
    "cm = metrics.confusion_matrix(y_test, y_pred)\n",
    "\n",
    "plt.figure(figsize=(20,20))\n",
    "plt.subplot(2,1,1)\n",
    "sns.heatmap(cm, annot=True, fmt=\"d\", xticklabels=encoders[\"Target\"].classes_, yticklabels=encoders[\"Target\"].classes_)\n",
    "plt.ylabel(\"Real value\")\n",
    "plt.xlabel(\"Predicted value\")\n",
    "print \"F1 score: %f\" % skl.metrics.f1_score(y_test, y_pred)\n",
    "coefs = pd.Series(cls.coef_[0], index=X_train.columns)\n",
    "coefs.sort()\n",
    "ax = plt.subplot(2,1,2)\n",
    "coefs.plot(kind=\"bar\")\n",
    "plt.show()"
   ]
  },
  {
   "cell_type": "code",
   "execution_count": null,
   "metadata": {
    "collapsed": true
   },
   "outputs": [],
   "source": []
  }
 ],
 "metadata": {
  "anaconda-cloud": {},
  "kernelspec": {
   "display_name": "Python 2",
   "language": "python",
   "name": "python2"
  },
  "language_info": {
   "codemirror_mode": {
    "name": "ipython",
    "version": 2
   },
   "file_extension": ".py",
   "mimetype": "text/x-python",
   "name": "python",
   "nbconvert_exporter": "python",
   "pygments_lexer": "ipython2",
   "version": "2.7.11"
  }
 },
 "nbformat": 4,
 "nbformat_minor": 0
}
