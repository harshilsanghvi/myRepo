{
 "cells": [
  {
   "cell_type": "code",
   "execution_count": 98,
   "metadata": {
    "collapsed": false
   },
   "outputs": [
    {
     "name": "stdout",
     "output_type": "stream",
     "text": [
      "111111222222\n"
     ]
    }
   ],
   "source": [
    "# QUESTION 1\n",
    "str = \"121212121212\"\n",
    "slices = str[::2] + str[1::2]\n",
    "print slices"
   ]
  },
  {
   "cell_type": "code",
   "execution_count": 99,
   "metadata": {
    "collapsed": false
   },
   "outputs": [
    {
     "name": "stdout",
     "output_type": "stream",
     "text": [
      "Instance variable size set to  2340\n",
      "Instance value of variable:  2340\n",
      "Class value of variable:  1000\n",
      "\n",
      "\n",
      "Class value of variable:  1000\n",
      "Child class value of variable:  140\n",
      "Class value of variable:  140\n"
     ]
    }
   ],
   "source": [
    "# QUESTION 2\n",
    "class Message:\n",
    "    maxsize = 1000\n",
    "    @classmethod\n",
    "    def max_message_size(self):\n",
    "        print \"Class value of variable: \",self.maxsize\n",
    "    def setsize(self,size):\n",
    "        self.maxsize = size\n",
    "        print \"Instance variable size set to \",self.maxsize\n",
    "    def size_of_message(self):\n",
    "        print \"Instance value of variable: \",self.maxsize\n",
    "\n",
    "m = Message()\n",
    "m.setsize(2340)\n",
    "m.size_of_message()\n",
    "Message.max_message_size()\n",
    "\n",
    "# QUESTION 3\n",
    "class Twit(Message):\n",
    "    \n",
    "    def max_message_size(self):\n",
    "        Message.maxsize = 140\n",
    "        print \"Child class value of variable: \",self.maxsize\n",
    "print '\\n'\n",
    "m = Message()\n",
    "Message.max_message_size()\n",
    "t = Twit()\n",
    "t.max_message_size()\n",
    "Message.max_message_size()"
   ]
  },
  {
   "cell_type": "markdown",
   "metadata": {},
   "source": [
    "### QUESTION 4\n",
    "\n",
    "Answer:\n",
    "try - is a keywork used in python by which, the operations under 'try' is run and is kept under observation for its output behaviour for further processing. If the code fails under the try block, the program will not end and instead it will be handled through except block.\n",
    "\n",
    "except - is a keyword in python which is accompanied to try keyword. except can also be known as exception. Whenever a bunch of code is kept under try block, it is followed by except block which catches any exceptions/errors that it may encounter. except block will avoid the code to break and will continue the execution.\n",
    "\n",
    "finally - is a keyword which is used to instruct the compiler to run the code under this block in whichever condition the status of the previous code is. \n",
    "It is accompanied to try/except block. By which the programmer guarantees that if he is unsure the code in try block will run or except block will run, nevertheless at the end, code in finally block will run.\n",
    "Finally block is very usefull when yu require to realise the resources or connections that are set up whil running the actual code.\n",
    "\n"
   ]
  },
  {
   "cell_type": "code",
   "execution_count": 100,
   "metadata": {
    "collapsed": false
   },
   "outputs": [
    {
     "name": "stdout",
     "output_type": "stream",
     "text": [
      "Enter your Age0\n",
      "Enter your weight56\n",
      "Age cannot be Zero, Try Again\n",
      "Good Bye, Have a Healthy Day\n"
     ]
    }
   ],
   "source": [
    "# QUESTION 4 EXAMPLE\n",
    "x = raw_input(\"Enter your Age\")\n",
    "y = raw_input(\"Enter your weight\")\n",
    "try: \n",
    "    a = 0.00\n",
    "    a = int(y)/int(x)\n",
    "    print \"Your Value is \", a\n",
    "except ZeroDivisionError:\n",
    "    print \"Age cannot be Zero, Try Again\"\n",
    "finally:\n",
    "    print \"Good Bye, Have a Healthy Day\"\n"
   ]
  },
  {
   "cell_type": "code",
   "execution_count": 103,
   "metadata": {
    "collapsed": false
   },
   "outputs": [
    {
     "name": "stdout",
     "output_type": "stream",
     "text": [
      "Age is:  34\n"
     ]
    }
   ],
   "source": [
    "# QUESTION 5\n",
    "names = {\"Aman\":23,\"Kamal\":34,\"Ajay\":44}\n",
    "def getAge(name):\n",
    "    print \"Age is: \",names[name]\n",
    "\n",
    "getAge(\"Kamal\")"
   ]
  },
  {
   "cell_type": "code",
   "execution_count": 104,
   "metadata": {
    "collapsed": false
   },
   "outputs": [
    {
     "name": "stdout",
     "output_type": "stream",
     "text": [
      "[[3 4 0 5 8]\n",
      " [4 5 4 3 0]\n",
      " [1 2 8 8 5]\n",
      " [7 0 2 7 6]]\n"
     ]
    }
   ],
   "source": [
    "# QUESTION 6\n",
    "import numpy as np\n",
    "a = np.random.randint(10,size =(4,5))\n",
    "print a"
   ]
  },
  {
   "cell_type": "markdown",
   "metadata": {},
   "source": [
    "### QUESTION 7 \n",
    "\n",
    "Data Frame - \n",
    "1. It is a 2 dimensional labelled data structure. It is a collection of list/columns of similar values. The columns can be of different data type. It is a mutable data structure \n",
    "2. It contains rows and columns. It can be viewed as a spreadsheet or a sql table. All the columns in the data frame have same length.\n",
    "3. Data frames in pandas accepts different kinds of input such as - dictionary, 1d arrays,lists, series\n",
    "4. It can also accept another dataframe\n",
    "5. For getting, setting or removing any columns works similar to dict objects. \n",
    "\n",
    "Various operations supported in pandas data frame\n",
    "- dtype: it provides the data type of all the columns in the data frame\n",
    "- describe: Statistical insights like mean, count, standard deviation , quantiles can be obtained through built in functions \n",
    "- indexing operations are also supported which allows to select column in dataframe which can act as a index column\n",
    "- The slice dice operations supported in pandas can be very helpful in manupalting the data as per requirement\n",
    "- Import export functions to various other databases, files allow integration of external to python very efficiently."
   ]
  },
  {
   "cell_type": "code",
   "execution_count": 105,
   "metadata": {
    "collapsed": false
   },
   "outputs": [
    {
     "name": "stdout",
     "output_type": "stream",
     "text": [
      "yes\n"
     ]
    }
   ],
   "source": [
    "x = True\n",
    "y = False\n",
    "z = False\n",
    "if x or y and z:\n",
    "    print \"yes\"\n",
    "else:\n",
    "    print \"no\""
   ]
  },
  {
   "cell_type": "code",
   "execution_count": null,
   "metadata": {
    "collapsed": true
   },
   "outputs": [],
   "source": []
  },
  {
   "cell_type": "code",
   "execution_count": null,
   "metadata": {
    "collapsed": true
   },
   "outputs": [],
   "source": []
  },
  {
   "cell_type": "code",
   "execution_count": null,
   "metadata": {
    "collapsed": true
   },
   "outputs": [],
   "source": []
  },
  {
   "cell_type": "code",
   "execution_count": null,
   "metadata": {
    "collapsed": true
   },
   "outputs": [],
   "source": []
  },
  {
   "cell_type": "code",
   "execution_count": null,
   "metadata": {
    "collapsed": true
   },
   "outputs": [],
   "source": []
  },
  {
   "cell_type": "code",
   "execution_count": null,
   "metadata": {
    "collapsed": true
   },
   "outputs": [],
   "source": []
  }
 ],
 "metadata": {
  "kernelspec": {
   "display_name": "Python 2",
   "language": "python",
   "name": "python2"
  },
  "language_info": {
   "codemirror_mode": {
    "name": "ipython",
    "version": 2
   },
   "file_extension": ".py",
   "mimetype": "text/x-python",
   "name": "python",
   "nbconvert_exporter": "python",
   "pygments_lexer": "ipython2",
   "version": "2.7.11"
  }
 },
 "nbformat": 4,
 "nbformat_minor": 0
}
