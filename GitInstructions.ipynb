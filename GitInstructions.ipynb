{
 "cells": [
  {
   "cell_type": "raw",
   "metadata": {},
   "source": [
    "GitHub Instructions, First Time configuration\n",
    "\n",
    "1. Install Git\n",
    "sudo apt-get install git\n",
    "\n",
    "2. Configure Github\n",
    "git config --global user.name \"user_name\"\n",
    "\n",
    "git config --global user.email \"email_id\"\n",
    "\n",
    "3. Create local repo\n",
    "git init myRepo\n",
    "\n",
    "4. Move to new folder \n",
    "cd myRepo\n",
    "\n",
    "5. Create to files\n",
    "gedit README\n",
    "gedit sample.txt\n",
    "\n",
    "6. \n",
    "git add README\n",
    "git add sample.txt\n",
    "\n",
    "7. \n",
    "git commit -m \"some_message\"\n",
    "\n",
    "8. Create a new repository \"myRepo\" in github account from browser\n",
    "\n",
    "9. \n",
    "git remote add origin https://github.com/user_name/myRepo.git\n",
    "\n",
    "10.\n",
    "git push origin master"
   ]
  },
  {
   "cell_type": "raw",
   "metadata": {},
   "source": [
    "Update files on Git Hub\n",
    "\n",
    "1.\n",
    "root@linux# cd myRepo/\n",
    "root@linux# git commit -a -m \"Updated footer\"\n",
    "root@linux# git push origin master. \n",
    "\n",
    "The files will be updated"
   ]
  }
 ],
 "metadata": {
  "kernelspec": {
   "display_name": "Python 2",
   "language": "python",
   "name": "python2"
  },
  "language_info": {
   "codemirror_mode": {
    "name": "ipython",
    "version": 2
   },
   "file_extension": ".py",
   "mimetype": "text/x-python",
   "name": "python",
   "nbconvert_exporter": "python",
   "pygments_lexer": "ipython2",
   "version": "2.7.11"
  }
 },
 "nbformat": 4,
 "nbformat_minor": 0
}
