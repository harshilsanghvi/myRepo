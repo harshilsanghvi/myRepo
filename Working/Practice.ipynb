{
 "cells": [
  {
   "cell_type": "code",
   "execution_count": null,
   "metadata": {
    "collapsed": false
   },
   "outputs": [],
   "source": [
    "#yield, iterable, generators\n",
    "#Yield is a keyword that is used like return, except the function will return a generator.\n",
    "mygenerator = (x*x*x for x in range(5))\n",
    "for i in mygenerator:\n",
    "    print(i)"
   ]
  },
  {
   "cell_type": "code",
   "execution_count": null,
   "metadata": {
    "collapsed": false
   },
   "outputs": [],
   "source": [
    "h = range(1,10)\n",
    "Z = map(lambda x:x**3,h)\n",
    "Z"
   ]
  },
  {
   "cell_type": "code",
   "execution_count": null,
   "metadata": {
    "collapsed": false
   },
   "outputs": [],
   "source": [
    "# np.linspace(start, stop, num=50, endpoint=True, retstep=False, dtype=None)\n",
    "#Return evenly spaced numbers over a specified interval."
   ]
  },
  {
   "cell_type": "code",
   "execution_count": null,
   "metadata": {
    "collapsed": true
   },
   "outputs": [],
   "source": [
    "#np.allclose(a, b, rtol=1e-05, atol=1e-08, equal_nan=False)\n",
    "#Returns True if two arrays are element-wise equal within a tolerance."
   ]
  },
  {
   "cell_type": "code",
   "execution_count": null,
   "metadata": {
    "collapsed": false
   },
   "outputs": [],
   "source": [
    "#Write a program which will find all such numbers which are divisible by 7 but are not a multiple of 5,\n",
    "import numpy as np\n",
    "def check(x):\n",
    "    if x%7 == 0 | x%5 != 0:\n",
    "            return x\n",
    "Z = np.arange(2299,3001)\n",
    "H = filter(lambda x : check(x),Z)\n",
    "print H"
   ]
  },
  {
   "cell_type": "code",
   "execution_count": null,
   "metadata": {
    "collapsed": false
   },
   "outputs": [],
   "source": [
    "#Write a program which can compute the factorial of a given numbers.\n",
    "Z = np.arange(1,9)\n",
    "print Z\n",
    "H = reduce(lambda x,y : x*y ,Z)\n",
    "print H"
   ]
  },
  {
   "cell_type": "code",
   "execution_count": null,
   "metadata": {
    "collapsed": false
   },
   "outputs": [],
   "source": [
    "#Write a program which can compute the factorial of a given numbers.\n",
    "def fact(x):\n",
    "    if x == 0:\n",
    "        return 1\n",
    "    return x * fact(x - 1)\n",
    "\n",
    "x=int(raw_input())\n",
    "print fact(x)"
   ]
  },
  {
   "cell_type": "code",
   "execution_count": null,
   "metadata": {
    "collapsed": false
   },
   "outputs": [],
   "source": [
    "#write a program to generate a dictionary that contains (i, i*i) \n",
    "n=int(raw_input())\n",
    "d = dict()\n",
    "for i in range(1,n+1):\n",
    "    d[i]=i*i\n",
    "print d\n"
   ]
  },
  {
   "cell_type": "code",
   "execution_count": null,
   "metadata": {
    "collapsed": false
   },
   "outputs": [],
   "source": [
    "n=raw_input()\n",
    "val = n.split(',')\n",
    "tup = tuple(val)\n",
    "print val\n",
    "print tup"
   ]
  },
  {
   "cell_type": "code",
   "execution_count": null,
   "metadata": {
    "collapsed": false
   },
   "outputs": [],
   "source": [
    "class practice:\n",
    "    def __init__(self):\n",
    "        self.v = \"\"\n",
    "    def getstring(self):\n",
    "        self.v = raw_input()\n",
    "    def printstring(self):\n",
    "        print self.v\n",
    "prac = practice()\n",
    "prac.getstring()\n",
    "prac.printstring()"
   ]
  },
  {
   "cell_type": "code",
   "execution_count": null,
   "metadata": {
    "collapsed": false
   },
   "outputs": [],
   "source": [
    "#Please write a program which accepts a string from console and print it in reverse order.\n",
    "inp = raw_input()\n",
    "print inp[::-1]"
   ]
  },
  {
   "cell_type": "code",
   "execution_count": null,
   "metadata": {
    "collapsed": false
   },
   "outputs": [],
   "source": [
    "#accepts a string from console and print the characters that have even indexes\n",
    "inp = raw_input()\n",
    "print inp[::2]"
   ]
  },
  {
   "cell_type": "code",
   "execution_count": null,
   "metadata": {
    "collapsed": false
   },
   "outputs": [],
   "source": [
    "#program which prints all permutations of [1,2,3]\n",
    "import itertools\n",
    "#?itertools\n",
    "print list(itertools.permutations([1,2,3]))"
   ]
  },
  {
   "cell_type": "code",
   "execution_count": null,
   "metadata": {
    "collapsed": false
   },
   "outputs": [],
   "source": [
    "#count 35 heads and 94 legs among the chickens and rabbits in a farm. How many rabbits and how many chickens do we have?\n",
    "def countheads():\n",
    "    for i in range(0,35):\n",
    "        j = 35 - i\n",
    "        if i*4+j*2==94:\n",
    "            return i,j\n",
    "    return \"No Solutions\"\n",
    "countheads()    "
   ]
  },
  {
   "cell_type": "code",
   "execution_count": null,
   "metadata": {
    "collapsed": false
   },
   "outputs": [],
   "source": [
    "import math \n",
    "def cal(C,D,H):\n",
    "    #Q = [(2 * C * D)/H]*0.5\n",
    "    Q = math.sqrt((2 * C * D)/H)\n",
    "    return round(Q,2)\n",
    "val = raw_input().split(',')\n",
    "cal(float(li[0]),float(li[1]),float(li[2]))    "
   ]
  },
  {
   "cell_type": "code",
   "execution_count": null,
   "metadata": {
    "collapsed": false
   },
   "outputs": [],
   "source": [
    "import numpy as np \n",
    "n = int(raw_input()) \n",
    "m = int(raw_input()) \n",
    "Z = np.ones((m,n)) \n",
    "g = range(0,m-1) \n",
    "print g\n",
    "for i in range(m):\n",
    "    Z[i:] = [t * i for t in g]\n",
    "print Z"
   ]
  },
  {
   "cell_type": "code",
   "execution_count": null,
   "metadata": {
    "collapsed": false
   },
   "outputs": [],
   "source": [
    "Z = raw_input().split(',')\n",
    "Z.sort()\n",
    "print ','.join(Z)"
   ]
  },
  {
   "cell_type": "code",
   "execution_count": null,
   "metadata": {
    "collapsed": false
   },
   "outputs": [],
   "source": [
    "lines = []\n",
    "while True:\n",
    "    inp = raw_input()\n",
    "    if inp:\n",
    "        lines.append(inp.upper())\n",
    "    else:\n",
    "        break\n",
    "print [x for x in lines]"
   ]
  },
  {
   "cell_type": "code",
   "execution_count": null,
   "metadata": {
    "collapsed": false
   },
   "outputs": [],
   "source": [
    "inp = \"hello world and practice makes perfect and hello world again\"\n",
    "Z = inp.split(' ')\n",
    "print \" \".join(sorted(list(set(Z))))"
   ]
  },
  {
   "cell_type": "code",
   "execution_count": null,
   "metadata": {
    "collapsed": false
   },
   "outputs": [],
   "source": [
    "for i in range(1000,1002):\n",
    "    s = str(i)\n",
    "    if ((int(s[0])%2==0) and (int(s[1])%2==0)  and (int(s[2])%2==0)  and (int(s[3])%2==0)):\n",
    "        print i"
   ]
  },
  {
   "cell_type": "code",
   "execution_count": null,
   "metadata": {
    "collapsed": false
   },
   "outputs": [],
   "source": [
    "inp = \"hello world! 123\"\n",
    "d = {\"digits\":0,\"letters\":0}\n",
    "for x in inp:\n",
    "    if x.isdigit():\n",
    "        d[\"digits\"] += 1\n",
    "    elif x.isalpha():\n",
    "        d[\"letters\"] += 1\n",
    "print d"
   ]
  },
  {
   "cell_type": "code",
   "execution_count": null,
   "metadata": {
    "collapsed": false
   },
   "outputs": [],
   "source": [
    "inp = \"hello world! 123\"\n",
    "d = {\"lower\":0,\"upper\":0}\n",
    "for x in inp:\n",
    "    if x.islower():\n",
    "        d[\"lower\"] += 1\n",
    "    elif x.isalpha():\n",
    "        d[\"upper\"] += 1\n",
    "print d"
   ]
  },
  {
   "cell_type": "code",
   "execution_count": null,
   "metadata": {
    "collapsed": false
   },
   "outputs": [],
   "source": [
    "import re\n",
    "chck = \"fail\"\n",
    "text = \"aasAS123$$df1231\"\n",
    "if re.search(\"[a-z]\",text):\n",
    "    if re.search(\"[A-Z]\",text):\n",
    "        if re.search(\"[0-9]\",text):\n",
    "            if re.search(\"[@#$%]\",text):\n",
    "                chck = \"pass\"\n",
    "if chck == \"pass\":\n",
    "    print \"pass\"\n",
    "else:\n",
    "    print \"fail\"\n"
   ]
  },
  {
   "cell_type": "code",
   "execution_count": null,
   "metadata": {
    "collapsed": false
   },
   "outputs": [],
   "source": [
    "from operator import itemgetter, attrgetter\n",
    "l = []\n",
    "while True:\n",
    "    s = raw_input()\n",
    "    if not s:\n",
    "        break\n",
    "    l.append(tuple(s.split(\",\")))\n",
    "print sorted(l, key=itemgetter(0,1,2))"
   ]
  },
  {
   "cell_type": "code",
   "execution_count": null,
   "metadata": {
    "collapsed": false
   },
   "outputs": [],
   "source": [
    "inp = \"New to Python or choosing between Python 2 and Python 3? Read Python 2 or Python 3\"\n",
    "words = [x for x in inp.split(' ')]\n",
    "d = dict()\n",
    "for x in words:\n",
    "    if x in d:\n",
    "        d[x] += 1\n",
    "    else:\n",
    "        d[x] = 1\n",
    "words = d.keys()\n",
    "words.sort()\n",
    "for x in words:\n",
    "    print x,\":\",d[x]"
   ]
  },
  {
   "cell_type": "code",
   "execution_count": null,
   "metadata": {
    "collapsed": false
   },
   "outputs": [],
   "source": [
    "import math \n",
    "def sqr(a):\n",
    "    print a**2\n",
    "print math.sqrt.__doc__\n",
    "#sqr(6)"
   ]
  },
  {
   "cell_type": "code",
   "execution_count": null,
   "metadata": {
    "collapsed": false
   },
   "outputs": [],
   "source": [
    "class pract:\n",
    "    name = \"Harshil\"\n",
    "    def __init__(self,name = None):\n",
    "        self.name = name\n",
    "        \n",
    "name = pract(\"Dev\")\n",
    "print name.name\n",
    "print pract.name\n"
   ]
  },
  {
   "cell_type": "code",
   "execution_count": null,
   "metadata": {
    "collapsed": false
   },
   "outputs": [],
   "source": [
    "def convert(var):\n",
    "    return str(var)\n",
    "print convert(4)\n"
   ]
  },
  {
   "cell_type": "code",
   "execution_count": null,
   "metadata": {
    "collapsed": false
   },
   "outputs": [],
   "source": [
    "def squares():\n",
    "    data = dict()\n",
    "    for x in range(0,5):\n",
    "        data[x] = x*x\n",
    "    for keys,values in data.items():\n",
    "        print keys,\":\", values\n",
    "    for k in data.keys():\n",
    "        print k\n",
    "    for v in data.values():\n",
    "        print v\n",
    "squares()"
   ]
  },
  {
   "cell_type": "code",
   "execution_count": null,
   "metadata": {
    "collapsed": false
   },
   "outputs": [],
   "source": [
    "tp=[1,2,3,4,5,6,7,8,9,10]\n",
    "li=list()\n",
    "for i in range(0,len(tp)):\n",
    "    if tp[i]%2==0:\n",
    "        li.append(tp[i])\n",
    "t1 = li[(len(li)/2):]\n",
    "t2 = li[:(len(li)/2)]\n",
    "print t1,t2\n",
    "tp2=tuple(li)\n",
    "print tp2"
   ]
  },
  {
   "cell_type": "code",
   "execution_count": null,
   "metadata": {
    "collapsed": false
   },
   "outputs": [],
   "source": [
    "lt = map(lambda x: x**2,filter(lambda x: x%2 == 0, range(1,11)))\n",
    "print lt"
   ]
  },
  {
   "cell_type": "code",
   "execution_count": null,
   "metadata": {
    "collapsed": false
   },
   "outputs": [],
   "source": [
    "class American(object):\n",
    "    i = 10 \n",
    "    @staticmethod\n",
    "    def staticmethods():\n",
    "        print i\n",
    "class Chicago(American):\n",
    "    def submethod():\n",
    "        print \"Hello subclass\"\n",
    "a = American()\n",
    "a.staticmethods()\n"
   ]
  },
  {
   "cell_type": "code",
   "execution_count": null,
   "metadata": {
    "collapsed": false
   },
   "outputs": [],
   "source": [
    "class Exc(Exception):\n",
    "    def __init__(self,msg):\n",
    "        self.msg=msg\n",
    "err = Exc(\"Something Error\")\n",
    "print err"
   ]
  },
  {
   "cell_type": "code",
   "execution_count": null,
   "metadata": {
    "collapsed": false
   },
   "outputs": [],
   "source": [
    "import re\n",
    "a = raw_input()\n",
    "re.split('\\@|\\.',a)"
   ]
  },
  {
   "cell_type": "code",
   "execution_count": null,
   "metadata": {
    "collapsed": false
   },
   "outputs": [],
   "source": [
    "import re\n",
    "emailAddress = raw_input()\n",
    "pat2 = \"(\\w+)@(\\w+)\\.(com)\"\n",
    "r2 = re.match(pat2,emailAddress)\n",
    "print r2.group(2)"
   ]
  },
  {
   "cell_type": "code",
   "execution_count": null,
   "metadata": {
    "collapsed": false
   },
   "outputs": [],
   "source": [
    "a = raw_input().split(' ')\n",
    "for x in a:\n",
    "    if x.isdigit():\n",
    "        print x\n"
   ]
  },
  {
   "cell_type": "code",
   "execution_count": null,
   "metadata": {
    "collapsed": false,
    "scrolled": true
   },
   "outputs": [],
   "source": [
    "import re \n",
    "a = raw_input()\n",
    "print re.findall(\"\\d+\",a)\n",
    "print re.findall(\"\\s+\",a)"
   ]
  },
  {
   "cell_type": "code",
   "execution_count": null,
   "metadata": {
    "collapsed": false
   },
   "outputs": [],
   "source": [
    "def f(n):\n",
    "    if n == 0: return 0\n",
    "    elif n == 1: return 1\n",
    "    else: return f(n-1)+f(n-2)\n",
    "\n",
    "#n=int(raw_input())\n",
    "#print f(n)\n",
    "\n",
    "def fib(n):\n",
    "    print \"0\"\n",
    "    a = 1\n",
    "    for i in range(1,n):\n",
    "        a = a + (a+1)\n",
    "        print a\n",
    "        #fib(a)\n",
    "fib(4)\n"
   ]
  },
  {
   "cell_type": "code",
   "execution_count": null,
   "metadata": {
    "collapsed": false
   },
   "outputs": [],
   "source": [
    "a = range(2,9)\n",
    "map(lambda x, y: x ** y, a, reversed(a))"
   ]
  },
  {
   "cell_type": "code",
   "execution_count": null,
   "metadata": {
    "collapsed": false
   },
   "outputs": [],
   "source": [
    "import numpy as np\n",
    "A = np.matrix([[1, 2], [3, 4]])\n",
    "B = np.mat([[5, 6], [5, 6]])\n"
   ]
  },
  {
   "cell_type": "code",
   "execution_count": null,
   "metadata": {
    "collapsed": false
   },
   "outputs": [],
   "source": [
    "A = np.mat([[2, 1], [1, 2]])\n",
    "#linear algebra . inverse function\n",
    "#A * A ^-1 is an identity matrix\n",
    "B = np.linalg.inv(A)\n",
    "print B\n",
    "A * B"
   ]
  },
  {
   "cell_type": "code",
   "execution_count": null,
   "metadata": {
    "collapsed": true
   },
   "outputs": [],
   "source": [
    "?np.linspace"
   ]
  }
 ],
 "metadata": {
  "kernelspec": {
   "display_name": "Python 3",
   "language": "python",
   "name": "python3"
  },
  "language_info": {
   "codemirror_mode": {
    "name": "ipython",
    "version": 3
   },
   "file_extension": ".py",
   "mimetype": "text/x-python",
   "name": "python",
   "nbconvert_exporter": "python",
   "pygments_lexer": "ipython3",
   "version": "3.6.0"
  }
 },
 "nbformat": 4,
 "nbformat_minor": 0
}
