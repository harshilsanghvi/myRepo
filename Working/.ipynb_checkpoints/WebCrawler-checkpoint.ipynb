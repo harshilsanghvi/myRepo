{
 "cells": [
  {
   "cell_type": "code",
   "execution_count": 25,
   "metadata": {
    "collapsed": false
   },
   "outputs": [],
   "source": [
    "from html.parser import HTMLParser  \n",
    "from urllib.request import urlopen  \n",
    "from urllib import parse"
   ]
  },
  {
   "cell_type": "code",
   "execution_count": 99,
   "metadata": {
    "collapsed": false
   },
   "outputs": [],
   "source": [
    "class LinkParser(HTMLParser):\n",
    "    def handle_starttag(self, tag, attrs):\n",
    "        if tag == 'a':\n",
    "            for (key, value) in attrs:\n",
    "                if key ==  'href':\n",
    "                    newUrl = parse.urljoin(self.baseUrl, value)\n",
    "                    self.links = self.links + [newUrl]\n",
    "    def getLinks(self, url):\n",
    "        self.links = []\n",
    "        self.baseUrl = url\n",
    "        response = urlopen(url)\n",
    "        if response.getheader('Content-Type')=='text/html':\n",
    "            htmlBytes = response.read()\n",
    "            htmlString = htmlBytes.decode(\"utf-8\")\n",
    "            self.feed(htmlString)\n",
    "#             print (self.links)\n",
    "            return htmlString, self.links\n",
    "        else:\n",
    "            return \"\",[]\n",
    "    def spider(url, word, maxPages):  \n",
    "        pagesToVisit = [url]\n",
    "        numberVisited = 0\n",
    "        foundWord = False\n",
    "        while numberVisited < maxPages and pagesToVisit != [] and not foundWord:\n",
    "            numberVisited = numberVisited +1\n",
    "            url = pagesToVisit[0]\n",
    "            print (url)\n",
    "            pagesToVisit = pagesToVisit[1:]\n",
    "            try:\n",
    "                print(numberVisited, \"Visiting:\", url)\n",
    "                parser = LinkParser()\n",
    "                print (\"Hi 1\")\n",
    "                data, links = parser.getLinks(url)\n",
    "                print (\"Hi 2\")\n",
    "                print (data.find(word))\n",
    "                if data.find(word)>-1:\n",
    "                    foundWord = True\n",
    "                    pagesToVisit = pagesToVisit + links\n",
    "                    print(\" **Success!**\")\n",
    "            except:\n",
    "                print(\" **Failed!**\")\n",
    "        if foundWord:\n",
    "            print(\"The word\", word, \"was found at\", url)\n",
    "        else:\n",
    "            print(\"Word never found\")"
   ]
  },
  {
   "cell_type": "code",
   "execution_count": 100,
   "metadata": {
    "collapsed": false
   },
   "outputs": [
    {
     "name": "stdout",
     "output_type": "stream",
     "text": [
      "[]\n",
      "1 Visiting: http://www.dreamhost.com\n",
      "Hi 1\n",
      "Hi 2\n",
      " **Success!**\n",
      "The word hi was found at http://www.dreamhost.com\n"
     ]
    }
   ],
   "source": [
    "spider(\"http://www.dreamhost.com\",\"hi\",200)"
   ]
  },
  {
   "cell_type": "code",
   "execution_count": 91,
   "metadata": {
    "collapsed": true
   },
   "outputs": [],
   "source": [
    "import urllib.request\n",
    "\n",
    "req = urllib.request.Request('http://www.voidspace.org.uk')\n",
    "with urllib.request.urlopen(req) as response:\n",
    "    the_page = response.read()"
   ]
  },
  {
   "cell_type": "code",
   "execution_count": null,
   "metadata": {
    "collapsed": true
   },
   "outputs": [],
   "source": []
  }
 ],
 "metadata": {
  "kernelspec": {
   "display_name": "Python 3",
   "language": "python",
   "name": "python3"
  },
  "language_info": {
   "codemirror_mode": {
    "name": "ipython",
    "version": 3
   },
   "file_extension": ".py",
   "mimetype": "text/x-python",
   "name": "python",
   "nbconvert_exporter": "python",
   "pygments_lexer": "ipython3",
   "version": "3.5.2"
  }
 },
 "nbformat": 4,
 "nbformat_minor": 0
}
