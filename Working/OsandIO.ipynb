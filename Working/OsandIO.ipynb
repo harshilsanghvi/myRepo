{
 "cells": [
  {
   "cell_type": "code",
   "execution_count": 7,
   "metadata": {
    "collapsed": true
   },
   "outputs": [],
   "source": [
    "import os\n",
    "import string"
   ]
  },
  {
   "cell_type": "code",
   "execution_count": null,
   "metadata": {
    "collapsed": false
   },
   "outputs": [],
   "source": [
    "def List(dir):\n",
    "    filenames = os.listdir(dir)\n",
    "    for filename in filenames:\n",
    "        path = os.path.join(dir,filename)\n",
    "        print(path)\n",
    "        print(os.path.abspath(path))\n",
    "List(\".\")"
   ]
  },
  {
   "cell_type": "code",
   "execution_count": null,
   "metadata": {
    "collapsed": true
   },
   "outputs": [],
   "source": [
    "# 7 simple tricks to write python\n",
    "# 1\n",
    "cities = [\"Utrecht\", \"Amsterdam\", \"Rotterdam\", \"Maastricht\"]\n",
    "for i, city in enumerate(cities):\n",
    "    print(i, city)\n",
    "\n",
    "# 2\n",
    "cities = [\"Utrecht\", \"Amsterdam\", \"Rotterdam\", \"Maastricht\"]\n",
    "countries = [\"UK\", \"America\",\"Netherlands\", \"India\"]\n",
    "for i,j city in zip(cities,countries):\n",
    "    print(i,j)\n",
    "    \n",
    "# 3\n",
    "ages = {\n",
    "    'Harshil' : 28,\n",
    "    'Dhiraj' : 27\n",
    "}\n",
    "age = ages.get('Dev','Unknown')\n",
    "\n",
    "# 4\n",
    "needle = 2\n",
    "stack = [1,4,6,7,3]\n",
    "for letter in stack:\n",
    "    if needle==letter:\n",
    "        print('found')\n",
    "        break\n",
    "else:\n",
    "    print('not found')\n",
    "    \n",
    "# 5\n",
    "with open('Movies.csv') as f:\n",
    "    for line in f:\n",
    "        print(line)\n",
    "        \n",
    "# 6\n",
    "cities = [\"Utrecht\", \"Amsterdam\", \"Rotterdam\", \"Maastricht\"]\n",
    "smallest, *rest, largest = cities\n",
    "\n",
    "# 7\n",
    "cities = [\"Utrecht\", \"Amsterdam\", \"Rotterdam\", \"Maastricht\"]\n",
    "countries = [\"321\", \"546\",\"156\", \"091\"]\n",
    "\n",
    "d = { city.capitalize() : country \\\n",
    "     for city, country in zip(cities,countries)\n",
    "    }\n"
   ]
  }
 ],
 "metadata": {
  "kernelspec": {
   "display_name": "Python 3",
   "language": "python",
   "name": "python3"
  },
  "language_info": {
   "codemirror_mode": {
    "name": "ipython",
    "version": 3
   },
   "file_extension": ".py",
   "mimetype": "text/x-python",
   "name": "python",
   "nbconvert_exporter": "python",
   "pygments_lexer": "ipython3",
   "version": "3.6.0"
  }
 },
 "nbformat": 4,
 "nbformat_minor": 2
}
