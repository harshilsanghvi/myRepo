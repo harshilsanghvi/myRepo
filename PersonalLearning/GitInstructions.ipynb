{
 "cells": [
  {
   "cell_type": "raw",
   "metadata": {},
   "source": [
    "GitHub Instructions, First Time configuration\n",
    "\n",
    "1. Install Git\n",
    "sudo apt-get install git\n",
    "\n",
    "2. Configure Github\n",
    "git config --global user.name \"user_name\"\n",
    "\n",
    "git config --global user.email \"email_id\"\n",
    "\n",
    "3. Create local repo\n",
    "git init myRepo\n",
    "\n",
    "4. Move to new folder \n",
    "cd myRepo\n",
    "\n",
    "5. Create to files\n",
    "gedit README\n",
    "gedit sample.txt\n",
    "\n",
    "6. \n",
    "git add README\n",
    "git add sample.txt\n",
    "\n",
    "7. \n",
    "git commit -m \"some_message\"\n",
    "\n",
    "8. Create a new repository \"myRepo\" in github account from browser\n",
    "\n",
    "9. \n",
    "git remote add origin https://github.com/user_name/myRepo.git\n",
    "kl\n",
    "10.\n",
    "git push origin master"
   ]
  },
  {
   "cell_type": "raw",
   "metadata": {},
   "source": [
    "Update files on Git Hub\n",
    "\n",
    "1.\n",
    "cd myRepo/\n",
    "git add *\n",
    "git commit -a -m \"Updated footer\"\n",
    "git push origin master. \n",
    "\n",
    "The files will be updated"
   ]
  },
  {
   "cell_type": "raw",
   "metadata": {},
   "source": [
    "Delete file on Git Hub and local\n",
    "1.\n",
    "git rm GitInst.ipynb\n",
    "git commit -m \"del\"\n",
    "git push origin master"
   ]
  },
  {
   "cell_type": "raw",
   "metadata": {},
   "source": [
    "Remove the committed files after git commit -a -m \"\"\n",
    "\n",
    "git reset --hard"
   ]
  },
  {
   "cell_type": "markdown",
   "metadata": {},
   "source": [
    "Jupyter notebook - python 2.7 and 3. how to set kernel \n",
    "http://stackoverflow.com/questions/28831854/how-do-i-add-python3-kernel-to-jupyter-ipython\n"
   ]
  },
  {
   "cell_type": "raw",
   "metadata": {},
   "source": [
    "if your local repository is messed u and you want to reconfigure your git in local then\n",
    "1. remove the local files(delete)\n",
    "2. git clone https://github.com/harshilsanghvi/myRepo\n",
    "The git repository requires a ssh connection to connect it to the github. The ssh connection consists of \n",
    "public-private key. the public and private keys will be generated in your local .ssh folder. \n",
    "One file will consists of private and other will consists of the public key.\n",
    "https://help.github.com/articles/connecting-to-github-with-ssh/\n",
    "\n",
    "3. You can either use the existing one or create a new one. You can check if you have by \n",
    "https://git-scm.com/book/en/v2/Git-Basics-Getting-a-Git-Repository\n",
    "\n",
    "4. Once you have your public private key. you need to specify the ppublic key in your github account under settings\n",
    "\n",
    "5. once that is done you use the step 2 command.\n"
   ]
  },
  {
   "cell_type": "raw",
   "metadata": {},
   "source": [
    "terminal command >du -hs / to see size of the folder \n",
    "> git prune\n",
    "open folder click Control+H  to see hidden files in the folder"
   ]
  },
  {
   "cell_type": "code",
   "execution_count": null,
   "metadata": {
    "collapsed": true
   },
   "outputs": [],
   "source": []
  },
  {
   "cell_type": "code",
   "execution_count": null,
   "metadata": {
    "collapsed": true
   },
   "outputs": [],
   "source": []
  }
 ],
 "metadata": {
  "kernelspec": {
   "display_name": "Python 2",
   "language": "python",
   "name": "python2"
  },
  "language_info": {
   "codemirror_mode": {
    "name": "ipython",
    "version": 2
   },
   "file_extension": ".py",
   "mimetype": "text/x-python",
   "name": "python",
   "nbconvert_exporter": "python",
   "pygments_lexer": "ipython2",
   "version": "2.7.11"
  }
 },
 "nbformat": 4,
 "nbformat_minor": 0
}
